{
  "nbformat": 4,
  "nbformat_minor": 0,
  "metadata": {
    "colab": {
      "name": "Patient_Data.ipynb",
      "provenance": [],
      "collapsed_sections": [],
      "include_colab_link": true
    },
    "kernelspec": {
      "display_name": "Python 3",
      "language": "python",
      "name": "python3"
    },
    "language_info": {
      "codemirror_mode": {
        "name": "ipython",
        "version": 3
      },
      "file_extension": ".py",
      "mimetype": "text/x-python",
      "name": "python",
      "nbconvert_exporter": "python",
      "pygments_lexer": "ipython3",
      "version": "3.7.3"
    }
  },
  "cells": [
    {
      "cell_type": "markdown",
      "metadata": {
        "id": "view-in-github",
        "colab_type": "text"
      },
      "source": [
        "<a href=\"https://colab.research.google.com/github/dphi-official/Machine_Learning_Bootcamp/blob/master/End_to_End_Model_Building/Patient_Data.ipynb\" target=\"_parent\"><img src=\"https://colab.research.google.com/assets/colab-badge.svg\" alt=\"Open In Colab\"/></a>"
      ]
    },
    {
      "cell_type": "markdown",
      "metadata": {
        "id": "kxFmAGxFedvQ"
      },
      "source": [
        "# Agenda\n",
        "*  Problem Statement\n",
        "  *  Objective\n",
        "  *  Dataset & Data Description\n",
        "*  Solution Steps:\n",
        "  *  Load data\n",
        "  *  Understand your data: Data Analysis and Visualizations (EDA)\n",
        "  *  Pre-process the data\n",
        "  *  Prepare train and test datasets\n",
        "  *  Choose a model\n",
        "  *  Train your model\n",
        "  *  Evaluate the model (F1-score calculation)\n",
        "  *  Optimize: repeat steps 5 - 7\n",
        "*  Conclusion\n",
        "*  Prediction on New Test data\n",
        "  *  Load the new test data\n",
        "  *  Fill missing values if any\n",
        "  *  Preprocessing and cleaning the data\n",
        "  *  Predict the target values"
      ]
    },
    {
      "cell_type": "markdown",
      "metadata": {
        "id": "nfP6hNjz_GEs"
      },
      "source": [
        "## Problem Statement\n",
        "### Objective\n",
        "A hospital in the province of Greenland has been trying to improve its care conditions by looking at historic survival of the patients. They tried looking at their data but could not identify the main factors leading to high survivals.\n",
        "\n",
        "You are the best data scientist in Greenland and they've hired you to solve this problem. Now you are responsible for developing a model that will predict the chances of survival of a patient after 1 year of treatment (Survived_1_year).\n",
        "\n",
        "### Dataset & Data Description\n",
        "The dataset contains the patient records collected from a hospital in Greenland. The \"Survived_1_year\" column is a target variable which has binary entries (0 or 1).\n",
        "\n",
        "*  Survived_1_year == 0, implies that the patient did not survive after 1 year of treatment\n",
        "*  Survived_1_year == 1, implies that the patient survived after 1 year of treatment\n",
        "\n",
        "To load the dataset in your jupyter notebook, use the below command:\n",
        "\n",
        "\n",
        "```\n",
        "import pandas as pd\n",
        "pharma_data = pd.read_csv('https://raw.githubusercontent.com/dphi-official/Datasets/master/pharma_data/Training_set_begs.csv')\n",
        "```\n",
        "\n",
        "\n",
        "#### Data Description:\n",
        "\n",
        "*  ID_Patient_Care_Situation: Care situation of a patient during treatment\n",
        "*  Diagnosed_Condition: The diagnosed condition of the patient\n",
        "*  ID_Patient: Patient identifier number\n",
        "*  Treatment_with_drugs: Class of drugs used during treatment\n",
        "*  Survived_1_year: If the patient survived after one year (0 means did not survive; 1 means survived)\n",
        "*  Patient_Age: Age of the patient\n",
        "*  Patient_Body_Mass_Index: A calculated value based on the patient’s weight, height, etc.\n",
        "*  Patient_Smoker: If the patient was a smoker or not\n",
        "*  Patient_Rural_Urban: If the patient stayed in Rural or Urban part of the country\n",
        "*  Previous_Condition: Condition of the patient before the start of the treatment ( This variable is splitted into 8 columns - A, B, C, D, E, F, Z and Number_of_prev_cond. A, B, C, D, E, F and Z are the previous conditions of the patient. Suppose for one patient, if the entry in column A is 1, it means that the previous condition of the patient was A. If the patient didn't have that condition, it is 0 and same for other conditions. If a patient has previous condition as A and C , columns A and C will have entries as 1 and 1 respectively while the other column B, D, E, F, Z will have entries 0, 0, 0, 0, 0 respectively. The column Number_of_prev_cond will have entry as 2 i.e. 1 + 0 + 1 + 0 + 0 + 0 + 0 + 0 = 2 in this case. )"
      ]
    },
    {
      "cell_type": "markdown",
      "metadata": {
        "id": "_sI7avYCFmXM"
      },
      "source": [
        "## Solution steps:\n",
        "1. Load data\n",
        "2. Understand your data: EDA\n",
        "3. Pre-process the data \n",
        "4. Prepare train and test datasets\n",
        "5. Choose a model\n",
        "6. Train your model\n",
        "7. Evaluate the model (F1-score calculation)\n",
        "8. Optimize: repeat steps 5 - 7\n"
      ]
    },
    {
      "cell_type": "markdown",
      "metadata": {
        "id": "-A5dcWWJkT91"
      },
      "source": [
        "### **Load Libraries**"
      ]
    },
    {
      "cell_type": "code",
      "metadata": {
        "id": "6ZaU0CzM-EU_"
      },
      "source": [
        "import pandas as pd   # package for data analysis\n",
        "import numpy as np    # package for numerical computations\n",
        "\n",
        "# libraries for visualization\n",
        "import matplotlib.pyplot as plt\n",
        "import seaborn as sns\n",
        "\n",
        "# to ignore warnings\n",
        "import warnings\n",
        "warnings.filterwarnings('ignore')\n",
        "\n",
        "# For Preprocessing, ML models and Evaluation\n",
        "from sklearn.model_selection import train_test_split   # To split the dataset into train and test set\n",
        "\n",
        "from sklearn.linear_model import LogisticRegression     # Logistic regression model\n",
        "\n",
        "from sklearn import preprocessing\n",
        "from sklearn.preprocessing import LabelEncoder    # for converting categorical to numerical\n",
        "\n",
        "from sklearn.metrics import f1_score    # for model evaluation"
      ],
      "execution_count": 7,
      "outputs": []
    },
    {
      "cell_type": "markdown",
      "metadata": {
        "id": "1ZHArBgzkXdz"
      },
      "source": [
        "### **Load Data**"
      ]
    },
    {
      "cell_type": "code",
      "metadata": {
        "id": "PSsjGwsd9m-T"
      },
      "source": [
        "data = pd.read_csv('https://raw.githubusercontent.com/dphi-official/Datasets/master/pharma_data/Training_set_begs.csv')"
      ],
      "execution_count": 11,
      "outputs": []
    },
    {
      "cell_type": "code",
      "metadata": {
        "colab": {
          "base_uri": "https://localhost:8080/",
          "height": 215
        },
        "id": "gx1FV_ptDOqY",
        "outputId": "12a7a5ed-9b04-497b-bb1c-0333b93ad725"
      },
      "source": [
        "# Take a look at the first five observations\r\n",
        "data.head()"
      ],
      "execution_count": 12,
      "outputs": [
        {
          "output_type": "execute_result",
          "data": {
            "text/html": [
              "<div>\n",
              "<style scoped>\n",
              "    .dataframe tbody tr th:only-of-type {\n",
              "        vertical-align: middle;\n",
              "    }\n",
              "\n",
              "    .dataframe tbody tr th {\n",
              "        vertical-align: top;\n",
              "    }\n",
              "\n",
              "    .dataframe thead th {\n",
              "        text-align: right;\n",
              "    }\n",
              "</style>\n",
              "<table border=\"1\" class=\"dataframe\">\n",
              "  <thead>\n",
              "    <tr style=\"text-align: right;\">\n",
              "      <th></th>\n",
              "      <th>ID_Patient_Care_Situation</th>\n",
              "      <th>Diagnosed_Condition</th>\n",
              "      <th>Patient_ID</th>\n",
              "      <th>Treated_with_drugs</th>\n",
              "      <th>Patient_Age</th>\n",
              "      <th>Patient_Body_Mass_Index</th>\n",
              "      <th>Patient_Smoker</th>\n",
              "      <th>Patient_Rural_Urban</th>\n",
              "      <th>Patient_mental_condition</th>\n",
              "      <th>A</th>\n",
              "      <th>B</th>\n",
              "      <th>C</th>\n",
              "      <th>D</th>\n",
              "      <th>E</th>\n",
              "      <th>F</th>\n",
              "      <th>Z</th>\n",
              "      <th>Number_of_prev_cond</th>\n",
              "      <th>Survived_1_year</th>\n",
              "    </tr>\n",
              "  </thead>\n",
              "  <tbody>\n",
              "    <tr>\n",
              "      <th>0</th>\n",
              "      <td>22374</td>\n",
              "      <td>8</td>\n",
              "      <td>3333</td>\n",
              "      <td>DX6</td>\n",
              "      <td>56</td>\n",
              "      <td>18.479385</td>\n",
              "      <td>YES</td>\n",
              "      <td>URBAN</td>\n",
              "      <td>Stable</td>\n",
              "      <td>1.0</td>\n",
              "      <td>0.0</td>\n",
              "      <td>0.0</td>\n",
              "      <td>0.0</td>\n",
              "      <td>1.0</td>\n",
              "      <td>0.0</td>\n",
              "      <td>0.0</td>\n",
              "      <td>2.0</td>\n",
              "      <td>0</td>\n",
              "    </tr>\n",
              "    <tr>\n",
              "      <th>1</th>\n",
              "      <td>18164</td>\n",
              "      <td>5</td>\n",
              "      <td>5740</td>\n",
              "      <td>DX2</td>\n",
              "      <td>36</td>\n",
              "      <td>22.945566</td>\n",
              "      <td>YES</td>\n",
              "      <td>RURAL</td>\n",
              "      <td>Stable</td>\n",
              "      <td>1.0</td>\n",
              "      <td>0.0</td>\n",
              "      <td>0.0</td>\n",
              "      <td>0.0</td>\n",
              "      <td>0.0</td>\n",
              "      <td>0.0</td>\n",
              "      <td>0.0</td>\n",
              "      <td>1.0</td>\n",
              "      <td>1</td>\n",
              "    </tr>\n",
              "    <tr>\n",
              "      <th>2</th>\n",
              "      <td>6283</td>\n",
              "      <td>23</td>\n",
              "      <td>10446</td>\n",
              "      <td>DX6</td>\n",
              "      <td>48</td>\n",
              "      <td>27.510027</td>\n",
              "      <td>YES</td>\n",
              "      <td>RURAL</td>\n",
              "      <td>Stable</td>\n",
              "      <td>1.0</td>\n",
              "      <td>0.0</td>\n",
              "      <td>0.0</td>\n",
              "      <td>0.0</td>\n",
              "      <td>0.0</td>\n",
              "      <td>0.0</td>\n",
              "      <td>0.0</td>\n",
              "      <td>1.0</td>\n",
              "      <td>0</td>\n",
              "    </tr>\n",
              "    <tr>\n",
              "      <th>3</th>\n",
              "      <td>5339</td>\n",
              "      <td>51</td>\n",
              "      <td>12011</td>\n",
              "      <td>DX1</td>\n",
              "      <td>5</td>\n",
              "      <td>19.130976</td>\n",
              "      <td>NO</td>\n",
              "      <td>URBAN</td>\n",
              "      <td>Stable</td>\n",
              "      <td>1.0</td>\n",
              "      <td>0.0</td>\n",
              "      <td>0.0</td>\n",
              "      <td>0.0</td>\n",
              "      <td>0.0</td>\n",
              "      <td>0.0</td>\n",
              "      <td>0.0</td>\n",
              "      <td>1.0</td>\n",
              "      <td>1</td>\n",
              "    </tr>\n",
              "    <tr>\n",
              "      <th>4</th>\n",
              "      <td>33012</td>\n",
              "      <td>0</td>\n",
              "      <td>12513</td>\n",
              "      <td>NaN</td>\n",
              "      <td>128</td>\n",
              "      <td>1.348400</td>\n",
              "      <td>Cannot say</td>\n",
              "      <td>RURAL</td>\n",
              "      <td>Stable</td>\n",
              "      <td>0.0</td>\n",
              "      <td>0.0</td>\n",
              "      <td>0.0</td>\n",
              "      <td>0.0</td>\n",
              "      <td>0.0</td>\n",
              "      <td>0.0</td>\n",
              "      <td>1.0</td>\n",
              "      <td>1.0</td>\n",
              "      <td>1</td>\n",
              "    </tr>\n",
              "  </tbody>\n",
              "</table>\n",
              "</div>"
            ],
            "text/plain": [
              "   ID_Patient_Care_Situation  ...  Survived_1_year\n",
              "0                      22374  ...                0\n",
              "1                      18164  ...                1\n",
              "2                       6283  ...                0\n",
              "3                       5339  ...                1\n",
              "4                      33012  ...                1\n",
              "\n",
              "[5 rows x 18 columns]"
            ]
          },
          "metadata": {
            "tags": []
          },
          "execution_count": 12
        }
      ]
    },
    {
      "cell_type": "code",
      "metadata": {
        "colab": {
          "base_uri": "https://localhost:8080/"
        },
        "id": "Ey-sP-PaDRqg",
        "outputId": "e4924ff7-ca00-427a-b5e7-10d760fc9a9a"
      },
      "source": [
        "data.info()"
      ],
      "execution_count": 13,
      "outputs": [
        {
          "output_type": "stream",
          "text": [
            "<class 'pandas.core.frame.DataFrame'>\n",
            "RangeIndex: 23097 entries, 0 to 23096\n",
            "Data columns (total 18 columns):\n",
            " #   Column                     Non-Null Count  Dtype  \n",
            "---  ------                     --------------  -----  \n",
            " 0   ID_Patient_Care_Situation  23097 non-null  int64  \n",
            " 1   Diagnosed_Condition        23097 non-null  int64  \n",
            " 2   Patient_ID                 23097 non-null  int64  \n",
            " 3   Treated_with_drugs         23084 non-null  object \n",
            " 4   Patient_Age                23097 non-null  int64  \n",
            " 5   Patient_Body_Mass_Index    23097 non-null  float64\n",
            " 6   Patient_Smoker             23097 non-null  object \n",
            " 7   Patient_Rural_Urban        23097 non-null  object \n",
            " 8   Patient_mental_condition   23097 non-null  object \n",
            " 9   A                          21862 non-null  float64\n",
            " 10  B                          21862 non-null  float64\n",
            " 11  C                          21862 non-null  float64\n",
            " 12  D                          21862 non-null  float64\n",
            " 13  E                          21862 non-null  float64\n",
            " 14  F                          21862 non-null  float64\n",
            " 15  Z                          21862 non-null  float64\n",
            " 16  Number_of_prev_cond        21862 non-null  float64\n",
            " 17  Survived_1_year            23097 non-null  int64  \n",
            "dtypes: float64(9), int64(5), object(4)\n",
            "memory usage: 3.2+ MB\n"
          ],
          "name": "stdout"
        }
      ]
    },
    {
      "cell_type": "code",
      "metadata": {
        "colab": {
          "base_uri": "https://localhost:8080/",
          "height": 304
        },
        "id": "dVVY2dCPDUkr",
        "outputId": "927cb5b7-fade-43da-8e5e-481d1ca2a9a6"
      },
      "source": [
        "data.describe()"
      ],
      "execution_count": 14,
      "outputs": [
        {
          "output_type": "execute_result",
          "data": {
            "text/html": [
              "<div>\n",
              "<style scoped>\n",
              "    .dataframe tbody tr th:only-of-type {\n",
              "        vertical-align: middle;\n",
              "    }\n",
              "\n",
              "    .dataframe tbody tr th {\n",
              "        vertical-align: top;\n",
              "    }\n",
              "\n",
              "    .dataframe thead th {\n",
              "        text-align: right;\n",
              "    }\n",
              "</style>\n",
              "<table border=\"1\" class=\"dataframe\">\n",
              "  <thead>\n",
              "    <tr style=\"text-align: right;\">\n",
              "      <th></th>\n",
              "      <th>ID_Patient_Care_Situation</th>\n",
              "      <th>Diagnosed_Condition</th>\n",
              "      <th>Patient_ID</th>\n",
              "      <th>Patient_Age</th>\n",
              "      <th>Patient_Body_Mass_Index</th>\n",
              "      <th>A</th>\n",
              "      <th>B</th>\n",
              "      <th>C</th>\n",
              "      <th>D</th>\n",
              "      <th>E</th>\n",
              "      <th>F</th>\n",
              "      <th>Z</th>\n",
              "      <th>Number_of_prev_cond</th>\n",
              "      <th>Survived_1_year</th>\n",
              "    </tr>\n",
              "  </thead>\n",
              "  <tbody>\n",
              "    <tr>\n",
              "      <th>count</th>\n",
              "      <td>23097.000000</td>\n",
              "      <td>23097.000000</td>\n",
              "      <td>23097.000000</td>\n",
              "      <td>23097.000000</td>\n",
              "      <td>23097.000000</td>\n",
              "      <td>21862.000000</td>\n",
              "      <td>21862.000000</td>\n",
              "      <td>21862.000000</td>\n",
              "      <td>21862.000000</td>\n",
              "      <td>21862.000000</td>\n",
              "      <td>21862.000000</td>\n",
              "      <td>21862.000000</td>\n",
              "      <td>21862.000000</td>\n",
              "      <td>23097.000000</td>\n",
              "    </tr>\n",
              "    <tr>\n",
              "      <th>mean</th>\n",
              "      <td>16545.712041</td>\n",
              "      <td>26.413127</td>\n",
              "      <td>6261.280772</td>\n",
              "      <td>33.209768</td>\n",
              "      <td>23.454820</td>\n",
              "      <td>0.897905</td>\n",
              "      <td>0.136355</td>\n",
              "      <td>0.185070</td>\n",
              "      <td>0.083615</td>\n",
              "      <td>0.393239</td>\n",
              "      <td>0.053700</td>\n",
              "      <td>0.000595</td>\n",
              "      <td>1.750480</td>\n",
              "      <td>0.632247</td>\n",
              "    </tr>\n",
              "    <tr>\n",
              "      <th>std</th>\n",
              "      <td>9532.263503</td>\n",
              "      <td>15.030865</td>\n",
              "      <td>3595.990620</td>\n",
              "      <td>19.549882</td>\n",
              "      <td>3.807661</td>\n",
              "      <td>0.302780</td>\n",
              "      <td>0.343173</td>\n",
              "      <td>0.388363</td>\n",
              "      <td>0.276817</td>\n",
              "      <td>0.488480</td>\n",
              "      <td>0.225431</td>\n",
              "      <td>0.024379</td>\n",
              "      <td>0.770311</td>\n",
              "      <td>0.482204</td>\n",
              "    </tr>\n",
              "    <tr>\n",
              "      <th>min</th>\n",
              "      <td>2.000000</td>\n",
              "      <td>0.000000</td>\n",
              "      <td>1.000000</td>\n",
              "      <td>0.000000</td>\n",
              "      <td>1.089300</td>\n",
              "      <td>0.000000</td>\n",
              "      <td>0.000000</td>\n",
              "      <td>0.000000</td>\n",
              "      <td>0.000000</td>\n",
              "      <td>0.000000</td>\n",
              "      <td>0.000000</td>\n",
              "      <td>0.000000</td>\n",
              "      <td>1.000000</td>\n",
              "      <td>0.000000</td>\n",
              "    </tr>\n",
              "    <tr>\n",
              "      <th>25%</th>\n",
              "      <td>8280.000000</td>\n",
              "      <td>13.000000</td>\n",
              "      <td>3181.000000</td>\n",
              "      <td>16.000000</td>\n",
              "      <td>20.205550</td>\n",
              "      <td>1.000000</td>\n",
              "      <td>0.000000</td>\n",
              "      <td>0.000000</td>\n",
              "      <td>0.000000</td>\n",
              "      <td>0.000000</td>\n",
              "      <td>0.000000</td>\n",
              "      <td>0.000000</td>\n",
              "      <td>1.000000</td>\n",
              "      <td>0.000000</td>\n",
              "    </tr>\n",
              "    <tr>\n",
              "      <th>50%</th>\n",
              "      <td>16597.000000</td>\n",
              "      <td>26.000000</td>\n",
              "      <td>6242.000000</td>\n",
              "      <td>33.000000</td>\n",
              "      <td>23.386199</td>\n",
              "      <td>1.000000</td>\n",
              "      <td>0.000000</td>\n",
              "      <td>0.000000</td>\n",
              "      <td>0.000000</td>\n",
              "      <td>0.000000</td>\n",
              "      <td>0.000000</td>\n",
              "      <td>0.000000</td>\n",
              "      <td>2.000000</td>\n",
              "      <td>1.000000</td>\n",
              "    </tr>\n",
              "    <tr>\n",
              "      <th>75%</th>\n",
              "      <td>24825.000000</td>\n",
              "      <td>39.000000</td>\n",
              "      <td>9363.000000</td>\n",
              "      <td>50.000000</td>\n",
              "      <td>26.788154</td>\n",
              "      <td>1.000000</td>\n",
              "      <td>0.000000</td>\n",
              "      <td>0.000000</td>\n",
              "      <td>0.000000</td>\n",
              "      <td>1.000000</td>\n",
              "      <td>0.000000</td>\n",
              "      <td>0.000000</td>\n",
              "      <td>2.000000</td>\n",
              "      <td>1.000000</td>\n",
              "    </tr>\n",
              "    <tr>\n",
              "      <th>max</th>\n",
              "      <td>33014.000000</td>\n",
              "      <td>52.000000</td>\n",
              "      <td>12515.000000</td>\n",
              "      <td>149.000000</td>\n",
              "      <td>29.999579</td>\n",
              "      <td>1.000000</td>\n",
              "      <td>1.000000</td>\n",
              "      <td>1.000000</td>\n",
              "      <td>1.000000</td>\n",
              "      <td>1.000000</td>\n",
              "      <td>1.000000</td>\n",
              "      <td>1.000000</td>\n",
              "      <td>5.000000</td>\n",
              "      <td>1.000000</td>\n",
              "    </tr>\n",
              "  </tbody>\n",
              "</table>\n",
              "</div>"
            ],
            "text/plain": [
              "       ID_Patient_Care_Situation  ...  Survived_1_year\n",
              "count               23097.000000  ...     23097.000000\n",
              "mean                16545.712041  ...         0.632247\n",
              "std                  9532.263503  ...         0.482204\n",
              "min                     2.000000  ...         0.000000\n",
              "25%                  8280.000000  ...         0.000000\n",
              "50%                 16597.000000  ...         1.000000\n",
              "75%                 24825.000000  ...         1.000000\n",
              "max                 33014.000000  ...         1.000000\n",
              "\n",
              "[8 rows x 14 columns]"
            ]
          },
          "metadata": {
            "tags": []
          },
          "execution_count": 14
        }
      ]
    },
    {
      "cell_type": "markdown",
      "metadata": {
        "id": "y-3jjan0k4eZ"
      },
      "source": [
        "### **Prepare Train/Test Data**\n",
        "\n",
        "1. Separating the input and output variables\n",
        "\n",
        "Before building any machine learning model, we always separate the input variables and output variables. Input variables are those quantities whose values are changed naturally in an experiment, whereas output variable is the one whose values are dependent on the input variables. So, input variables are also known as independent variables as its values are not dependent on any other quantity, and output variable/s are also known as dependent variables as its values are dependent on other variable i.e. input variables. Like here in this data, we can see that whether a person will survive after one year or not, depends on other variables like, age, diagnosis, body mass index, drugs used, etc.\n",
        "\n",
        "By convention input variables are represented with 'X' and output variables are represented with 'y'."
      ]
    },
    {
      "cell_type": "code",
      "metadata": {
        "id": "wb6a2XmiSA9r"
      },
      "source": [
        "X = data.drop('Survived_1_year',axis = 1)\n",
        "y = data['Survived_1_year']"
      ],
      "execution_count": 15,
      "outputs": []
    },
    {
      "cell_type": "markdown",
      "metadata": {
        "id": "HQzEPkTnk9ko"
      },
      "source": [
        "2. Train/test split\n",
        "\n",
        "We want to check the performance of the model that we built. For this purpose, we always split (both input and output data) the given data into training set which will be used to train the model, and test set which will be used to check how accurately the model is predicting outcomes.\n",
        "\n",
        "For this purpose we have a class called 'train_test_split' in the 'sklearn.model_selection' module."
      ]
    },
    {
      "cell_type": "code",
      "metadata": {
        "id": "vSM5z68MEsac"
      },
      "source": [
        "X_train, X_test, y_train, y_test = train_test_split(X, y, test_size=0.2, random_state=1, stratify=y)"
      ],
      "execution_count": 16,
      "outputs": []
    },
    {
      "cell_type": "markdown",
      "metadata": {
        "id": "dXgHvl2aaT-u"
      },
      "source": [
        "To preserve the proportion of examples for each class label we use stratification splitting"
      ]
    },
    {
      "cell_type": "markdown",
      "metadata": {
        "id": "k260ixdn6DS7"
      },
      "source": [
        "### **EDA & Data Preprocessing** "
      ]
    },
    {
      "cell_type": "markdown",
      "metadata": {
        "id": "NCC1_nGuTcqB"
      },
      "source": [
        "Primary screenings: \n",
        "1. Get a look at the data, its columns and kind of values contained in these columns: df.head()\n",
        "2. Stepping back a bit, get a look at the column overview: number, types, NULL counts: df.info()"
      ]
    },
    {
      "cell_type": "code",
      "metadata": {
        "colab": {
          "base_uri": "https://localhost:8080/",
          "height": 215
        },
        "id": "K0U1o3CW-Fst",
        "outputId": "2abfc73f-67f8-45e7-83c9-8bcd70dab1d0"
      },
      "source": [
        "# Take a look at the first five observations\n",
        "X_train.head()"
      ],
      "execution_count": 17,
      "outputs": [
        {
          "output_type": "execute_result",
          "data": {
            "text/html": [
              "<div>\n",
              "<style scoped>\n",
              "    .dataframe tbody tr th:only-of-type {\n",
              "        vertical-align: middle;\n",
              "    }\n",
              "\n",
              "    .dataframe tbody tr th {\n",
              "        vertical-align: top;\n",
              "    }\n",
              "\n",
              "    .dataframe thead th {\n",
              "        text-align: right;\n",
              "    }\n",
              "</style>\n",
              "<table border=\"1\" class=\"dataframe\">\n",
              "  <thead>\n",
              "    <tr style=\"text-align: right;\">\n",
              "      <th></th>\n",
              "      <th>ID_Patient_Care_Situation</th>\n",
              "      <th>Diagnosed_Condition</th>\n",
              "      <th>Patient_ID</th>\n",
              "      <th>Treated_with_drugs</th>\n",
              "      <th>Patient_Age</th>\n",
              "      <th>Patient_Body_Mass_Index</th>\n",
              "      <th>Patient_Smoker</th>\n",
              "      <th>Patient_Rural_Urban</th>\n",
              "      <th>Patient_mental_condition</th>\n",
              "      <th>A</th>\n",
              "      <th>B</th>\n",
              "      <th>C</th>\n",
              "      <th>D</th>\n",
              "      <th>E</th>\n",
              "      <th>F</th>\n",
              "      <th>Z</th>\n",
              "      <th>Number_of_prev_cond</th>\n",
              "    </tr>\n",
              "  </thead>\n",
              "  <tbody>\n",
              "    <tr>\n",
              "      <th>3955</th>\n",
              "      <td>30300</td>\n",
              "      <td>10</td>\n",
              "      <td>4842</td>\n",
              "      <td>DX6</td>\n",
              "      <td>37</td>\n",
              "      <td>22.673581</td>\n",
              "      <td>YES</td>\n",
              "      <td>RURAL</td>\n",
              "      <td>Stable</td>\n",
              "      <td>1.0</td>\n",
              "      <td>0.0</td>\n",
              "      <td>0.0</td>\n",
              "      <td>0.0</td>\n",
              "      <td>0.0</td>\n",
              "      <td>0.0</td>\n",
              "      <td>0.0</td>\n",
              "      <td>1.0</td>\n",
              "    </tr>\n",
              "    <tr>\n",
              "      <th>13205</th>\n",
              "      <td>2888</td>\n",
              "      <td>44</td>\n",
              "      <td>1024</td>\n",
              "      <td>DX6</td>\n",
              "      <td>11</td>\n",
              "      <td>29.883019</td>\n",
              "      <td>NO</td>\n",
              "      <td>URBAN</td>\n",
              "      <td>Stable</td>\n",
              "      <td>1.0</td>\n",
              "      <td>0.0</td>\n",
              "      <td>0.0</td>\n",
              "      <td>0.0</td>\n",
              "      <td>1.0</td>\n",
              "      <td>0.0</td>\n",
              "      <td>0.0</td>\n",
              "      <td>2.0</td>\n",
              "    </tr>\n",
              "    <tr>\n",
              "      <th>14868</th>\n",
              "      <td>3234</td>\n",
              "      <td>49</td>\n",
              "      <td>195</td>\n",
              "      <td>DX5</td>\n",
              "      <td>53</td>\n",
              "      <td>17.580741</td>\n",
              "      <td>YES</td>\n",
              "      <td>RURAL</td>\n",
              "      <td>Stable</td>\n",
              "      <td>0.0</td>\n",
              "      <td>0.0</td>\n",
              "      <td>0.0</td>\n",
              "      <td>0.0</td>\n",
              "      <td>1.0</td>\n",
              "      <td>0.0</td>\n",
              "      <td>0.0</td>\n",
              "      <td>1.0</td>\n",
              "    </tr>\n",
              "    <tr>\n",
              "      <th>13249</th>\n",
              "      <td>15704</td>\n",
              "      <td>27</td>\n",
              "      <td>291</td>\n",
              "      <td>DX1 DX3</td>\n",
              "      <td>22</td>\n",
              "      <td>21.468654</td>\n",
              "      <td>NO</td>\n",
              "      <td>URBAN</td>\n",
              "      <td>Stable</td>\n",
              "      <td>1.0</td>\n",
              "      <td>1.0</td>\n",
              "      <td>0.0</td>\n",
              "      <td>0.0</td>\n",
              "      <td>0.0</td>\n",
              "      <td>0.0</td>\n",
              "      <td>0.0</td>\n",
              "      <td>2.0</td>\n",
              "    </tr>\n",
              "    <tr>\n",
              "      <th>8383</th>\n",
              "      <td>10661</td>\n",
              "      <td>24</td>\n",
              "      <td>5543</td>\n",
              "      <td>DX1 DX2 DX3</td>\n",
              "      <td>62</td>\n",
              "      <td>29.204603</td>\n",
              "      <td>NO</td>\n",
              "      <td>URBAN</td>\n",
              "      <td>Stable</td>\n",
              "      <td>NaN</td>\n",
              "      <td>NaN</td>\n",
              "      <td>NaN</td>\n",
              "      <td>NaN</td>\n",
              "      <td>NaN</td>\n",
              "      <td>NaN</td>\n",
              "      <td>NaN</td>\n",
              "      <td>NaN</td>\n",
              "    </tr>\n",
              "  </tbody>\n",
              "</table>\n",
              "</div>"
            ],
            "text/plain": [
              "       ID_Patient_Care_Situation  Diagnosed_Condition  ...    Z Number_of_prev_cond\n",
              "3955                       30300                   10  ...  0.0                 1.0\n",
              "13205                       2888                   44  ...  0.0                 2.0\n",
              "14868                       3234                   49  ...  0.0                 1.0\n",
              "13249                      15704                   27  ...  0.0                 2.0\n",
              "8383                       10661                   24  ...  NaN                 NaN\n",
              "\n",
              "[5 rows x 17 columns]"
            ]
          },
          "metadata": {
            "tags": []
          },
          "execution_count": 17
        }
      ]
    },
    {
      "cell_type": "code",
      "metadata": {
        "colab": {
          "base_uri": "https://localhost:8080/"
        },
        "id": "_rjqyn7U-aJ8",
        "outputId": "6ed6cff5-36d3-4d56-b939-c22860bf2231"
      },
      "source": [
        "# A concise summary of the data\n",
        "X_train.info()"
      ],
      "execution_count": 18,
      "outputs": [
        {
          "output_type": "stream",
          "text": [
            "<class 'pandas.core.frame.DataFrame'>\n",
            "Int64Index: 18477 entries, 3955 to 13126\n",
            "Data columns (total 17 columns):\n",
            " #   Column                     Non-Null Count  Dtype  \n",
            "---  ------                     --------------  -----  \n",
            " 0   ID_Patient_Care_Situation  18477 non-null  int64  \n",
            " 1   Diagnosed_Condition        18477 non-null  int64  \n",
            " 2   Patient_ID                 18477 non-null  int64  \n",
            " 3   Treated_with_drugs         18465 non-null  object \n",
            " 4   Patient_Age                18477 non-null  int64  \n",
            " 5   Patient_Body_Mass_Index    18477 non-null  float64\n",
            " 6   Patient_Smoker             18477 non-null  object \n",
            " 7   Patient_Rural_Urban        18477 non-null  object \n",
            " 8   Patient_mental_condition   18477 non-null  object \n",
            " 9   A                          17482 non-null  float64\n",
            " 10  B                          17482 non-null  float64\n",
            " 11  C                          17482 non-null  float64\n",
            " 12  D                          17482 non-null  float64\n",
            " 13  E                          17482 non-null  float64\n",
            " 14  F                          17482 non-null  float64\n",
            " 15  Z                          17482 non-null  float64\n",
            " 16  Number_of_prev_cond        17482 non-null  float64\n",
            "dtypes: float64(9), int64(4), object(4)\n",
            "memory usage: 2.5+ MB\n"
          ],
          "name": "stdout"
        }
      ]
    },
    {
      "cell_type": "markdown",
      "metadata": {
        "id": "O-LSBoRwBaGQ"
      },
      "source": [
        "**Observations:**\n",
        "\n",
        "1. There are 18477 observations divided into 17 columns.\n",
        "2. There are some missing values in the dataset.\n"
      ]
    },
    {
      "cell_type": "markdown",
      "metadata": {
        "id": "eWqUWJ5Mfi6K"
      },
      "source": [
        "Let's take a look at the distribution of our target variable to determine if we have a balanced dataset\n"
      ]
    },
    {
      "cell_type": "code",
      "metadata": {
        "colab": {
          "base_uri": "https://localhost:8080/",
          "height": 280
        },
        "id": "1y4UyfawflH8",
        "outputId": "77cd0c56-a26d-4985-c913-05b000326201"
      },
      "source": [
        "sns.countplot(y_train)\n",
        "plt.show()"
      ],
      "execution_count": 19,
      "outputs": [
        {
          "output_type": "display_data",
          "data": {
            "image/png": "[encoded data removed]",
            "text/plain": [
              "<Figure size 432x288 with 1 Axes>"
            ]
          },
          "metadata": {
            "tags": [],
            "needs_background": "light"
          }
        }
      ]
    },
    {
      "cell_type": "markdown",
      "metadata": {
        "id": "Onqv3ONRB5M2"
      },
      "source": [
        "There are 6000 + patients who did not survive after 1 year of treatment and almost 12000 patients who survived after 1 year of treatment. The ratio is 1:2 (approx). We can go ahead without class imbalance treatment as the difference is not highly imbalanced such as 1:10. However, feel free to experiment and see if class imbalance really helps or not."
      ]
    },
    {
      "cell_type": "markdown",
      "metadata": {
        "id": "AaVFSXCxlk1O"
      },
      "source": [
        "\n",
        "**Box Plot**\n",
        "\n",
        "A box plot is a great way to get a visual sense of an entire range of data. It can tell you about your outliers and what their values are. It can also tell you if your data is symmetrical, how tightly your data is grouped, and if and how your data is skewed.\n",
        "\n",
        "Box plots divides data into its quartiles. The “box” shows a user the data set between the first and third quartiles.\n",
        "\n",
        "The median gets drawn somewhere inside the box and then you see the most extreme non-outliers to finish the plot. Those lines are known as the “whiskers”. If there are any outliers then those can be plotted as well.\n",
        "\n",
        "With box plots you can answer how diverse or uniform your data might be. You can identify what is normal and what is extreme. Box plots help give a shape to your data that is broad without sacrificing the ability to look at any piece and ask more questions.\n",
        "\n",
        "It displays the five-number summary of a set of data. The five-number summary is:\n",
        "\n",
        "*  minimum\n",
        "*  first quartile (Q1)\n",
        "*  median\n",
        "*  third quartile (Q3)\n",
        "*  maximum\n",
        "\n",
        "Boxplot also helps you to check if there are any outliers in your data or not.\n",
        "\n",
        "For reading about boxplot and outliers: https://towardsdatascience.com/ways-to-detect-and-remove-the-outliers-404d16608dba\n",
        "\n",
        "Read more about Box Plots [here](https://towardsdatascience.com/understanding-boxplots-5e2df7bcbd51)."
      ]
    },
    {
      "cell_type": "code",
      "metadata": {
        "colab": {
          "base_uri": "https://localhost:8080/",
          "height": 1000
        },
        "id": "xrZudljNbuu8",
        "outputId": "3d0036db-a001-45cd-9767-37669ce55995"
      },
      "source": [
        "numeric_data=X_train[['Diagnosed_Condition', 'Patient_Age', 'Patient_Body_Mass_Index', 'Number_of_prev_cond']]\n",
        "for feature in numeric_data.columns:\n",
        "  sns.boxplot(x=y_train, y=feature, data=numeric_data)\n",
        "  plt.show()"
      ],
      "execution_count": 20,
      "outputs": [
        {
          "output_type": "display_data",
          "data": {
            "image/png": "[encoded data removed]",
            "text/plain": [
              "<Figure size 432x288 with 1 Axes>"
            ]
          },
          "metadata": {
            "tags": [],
            "needs_background": "light"
          }
        },
        {
          "output_type": "display_data",
          "data": {
            "image/png": "[encoded data removed]",
            "text/plain": [
              "<Figure size 432x288 with 1 Axes>"
            ]
          },
          "metadata": {
            "tags": [],
            "needs_background": "light"
          }
        },
        {
          "output_type": "display_data",
          "data": {
            "image/png": "[encoded data removed]",
            "text/plain": [
              "<Figure size 432x288 with 1 Axes>"
            ]
          },
          "metadata": {
            "tags": [],
            "needs_background": "light"
          }
        },
        {
          "output_type": "display_data",
          "data": {
            "image/png": "[encoded data removed]",
            "text/plain": [
              "<Figure size 432x288 with 1 Axes>"
            ]
          },
          "metadata": {
            "tags": [],
            "needs_background": "light"
          }
        }
      ]
    },
    {
      "cell_type": "markdown",
      "metadata": {
        "id": "EFCq9b3zWqtc"
      },
      "source": [
        "We can also see there are some outliers in the columns - 'Patient_Age', 'Patient_Body_Mass_Index', and 'Number_of_prev_cond'. There are various ways to treat the outliers as mentioned in the article https://towardsdatascience.com/ways-to-detect-and-remove-the-outliers-404d16608dba. Here I have not treated any outliers."
      ]
    },
    {
      "cell_type": "markdown",
      "metadata": {
        "id": "FqtEERmLFdIA"
      },
      "source": [
        " **Exercise:** Treat outliers and see if it improves the performance."
      ]
    },
    {
      "cell_type": "markdown",
      "metadata": {
        "id": "Fq-64ZQUi1X_"
      },
      "source": [
        "Following is a correlation analysis between the continuous varibles, visualized using a heatmap"
      ]
    },
    {
      "cell_type": "code",
      "metadata": {
        "colab": {
          "base_uri": "https://localhost:8080/",
          "height": 387
        },
        "id": "OWjQ7ODAi-XK",
        "outputId": "1329f7bb-c232-4f37-a248-f89081d32c50"
      },
      "source": [
        "colormap = sns.diverging_palette(10, 220, as_cmap = True)\n",
        "sns.heatmap(numeric_data.corr(),\n",
        "            cmap = colormap,\n",
        "            square = True,\n",
        "            annot = True)\n",
        "plt.show()"
      ],
      "execution_count": 21,
      "outputs": [
        {
          "output_type": "display_data",
          "data": {
            "image/png": "[encoded data removed]",
            "text/plain": [
              "<Figure size 432x288 with 2 Axes>"
            ]
          },
          "metadata": {
            "tags": [],
            "needs_background": "light"
          }
        }
      ]
    },
    {
      "cell_type": "markdown",
      "metadata": {
        "id": "8wi8907HluMs"
      },
      "source": [
        "Finally, we must look at the EDA for our categorical variables. However, before analyzing the categorical columns further, we will treat the missing values"
      ]
    },
    {
      "cell_type": "code",
      "metadata": {
        "colab": {
          "base_uri": "https://localhost:8080/"
        },
        "id": "0Uns84y5m-C6",
        "outputId": "eaec4eed-4e3a-45e8-a767-fc23dd5db02f"
      },
      "source": [
        "X_train.isnull().sum()"
      ],
      "execution_count": 22,
      "outputs": [
        {
          "output_type": "execute_result",
          "data": {
            "text/plain": [
              "ID_Patient_Care_Situation      0\n",
              "Diagnosed_Condition            0\n",
              "Patient_ID                     0\n",
              "Treated_with_drugs            12\n",
              "Patient_Age                    0\n",
              "Patient_Body_Mass_Index        0\n",
              "Patient_Smoker                 0\n",
              "Patient_Rural_Urban            0\n",
              "Patient_mental_condition       0\n",
              "A                            995\n",
              "B                            995\n",
              "C                            995\n",
              "D                            995\n",
              "E                            995\n",
              "F                            995\n",
              "Z                            995\n",
              "Number_of_prev_cond          995\n",
              "dtype: int64"
            ]
          },
          "metadata": {
            "tags": []
          },
          "execution_count": 22
        }
      ]
    },
    {
      "cell_type": "markdown",
      "metadata": {
        "id": "_iznb1EykjSM"
      },
      "source": [
        "#### *Filling Missing values*"
      ]
    },
    {
      "cell_type": "code",
      "metadata": {
        "id": "3sSADyLmQJAB"
      },
      "source": [
        "X_train['Treated_with_drugs']=X_train['Treated_with_drugs'].fillna(X_train['Treated_with_drugs'].mode()[0])"
      ],
      "execution_count": 23,
      "outputs": []
    },
    {
      "cell_type": "code",
      "metadata": {
        "id": "NbC3Pr2JoFsO"
      },
      "source": [
        "X_train['A'].fillna(X_train['A'].mode()[0], inplace = True)\n",
        "X_train['B'].fillna(X_train['B'].mode()[0], inplace = True)\n",
        "X_train['C'].fillna(X_train['C'].mode()[0], inplace = True)\n",
        "X_train['D'].fillna(X_train['D'].mode()[0], inplace = True)\n",
        "X_train['E'].fillna(X_train['E'].mode()[0], inplace = True)\n",
        "X_train['F'].fillna(X_train['F'].mode()[0], inplace = True)\n",
        "X_train['Z'].fillna(X_train['Z'].mode()[0], inplace = True)"
      ],
      "execution_count": 24,
      "outputs": []
    },
    {
      "cell_type": "code",
      "metadata": {
        "colab": {
          "base_uri": "https://localhost:8080/"
        },
        "id": "C2pLdMmQoIoQ",
        "outputId": "fe90c3ed-f195-445b-8037-06a64b697423"
      },
      "source": [
        "X_train.isnull().sum()"
      ],
      "execution_count": 25,
      "outputs": [
        {
          "output_type": "execute_result",
          "data": {
            "text/plain": [
              "ID_Patient_Care_Situation      0\n",
              "Diagnosed_Condition            0\n",
              "Patient_ID                     0\n",
              "Treated_with_drugs             0\n",
              "Patient_Age                    0\n",
              "Patient_Body_Mass_Index        0\n",
              "Patient_Smoker                 0\n",
              "Patient_Rural_Urban            0\n",
              "Patient_mental_condition       0\n",
              "A                              0\n",
              "B                              0\n",
              "C                              0\n",
              "D                              0\n",
              "E                              0\n",
              "F                              0\n",
              "Z                              0\n",
              "Number_of_prev_cond          995\n",
              "dtype: int64"
            ]
          },
          "metadata": {
            "tags": []
          },
          "execution_count": 25
        }
      ]
    },
    {
      "cell_type": "markdown",
      "metadata": {
        "id": "XB5Wk7X9aFnk"
      },
      "source": [
        "We can see that 995 values are missing from 'Number_of_prev_cond' column. We will fill these with the mode. \n",
        "\n",
        "**Why mode?** As per the data description this column's value is dependent on the seven columns - 'A', 'B', 'C', 'D', 'E', 'F', 'Z'. \n",
        "\n",
        "These columns have values either 0 or 1. Hence these seven columns are categorical columns. \n",
        "\n",
        "So the column 'Number_of_prev_cond' have discrete values from integers 0 to 7 and can be considered as categorical column as it has only 7 different values. Hence here we can fill the missing values with mode.\n",
        "\n",
        "\n",
        "Idea way is to just sum up the values of A, B, C, D, E, F, Z"
      ]
    },
    {
      "cell_type": "code",
      "metadata": {
        "id": "ZmaoC8O2Z_kV"
      },
      "source": [
        "X_train['Number_of_prev_cond'] = X_train['Number_of_prev_cond'].fillna(X_train['Number_of_prev_cond'].mode()[0])  # filling the missing value of 'Number_of_prev_cond'\n"
      ],
      "execution_count": 26,
      "outputs": []
    },
    {
      "cell_type": "code",
      "metadata": {
        "colab": {
          "base_uri": "https://localhost:8080/"
        },
        "id": "5Ab_lZ1KH25t",
        "outputId": "a588d262-cb05-4760-c4cf-2a98db3d598b"
      },
      "source": [
        "X_train.isnull().sum()"
      ],
      "execution_count": 27,
      "outputs": [
        {
          "output_type": "execute_result",
          "data": {
            "text/plain": [
              "ID_Patient_Care_Situation    0\n",
              "Diagnosed_Condition          0\n",
              "Patient_ID                   0\n",
              "Treated_with_drugs           0\n",
              "Patient_Age                  0\n",
              "Patient_Body_Mass_Index      0\n",
              "Patient_Smoker               0\n",
              "Patient_Rural_Urban          0\n",
              "Patient_mental_condition     0\n",
              "A                            0\n",
              "B                            0\n",
              "C                            0\n",
              "D                            0\n",
              "E                            0\n",
              "F                            0\n",
              "Z                            0\n",
              "Number_of_prev_cond          0\n",
              "dtype: int64"
            ]
          },
          "metadata": {
            "tags": []
          },
          "execution_count": 27
        }
      ]
    },
    {
      "cell_type": "markdown",
      "metadata": {
        "id": "2fCCZFH2SkLU"
      },
      "source": [
        "### Let's look at Categorical Data\n",
        "Let's perform Exploratory Data Analysis on the Categorical data.\n",
        "In the categorical_data variable we'll keep all the categorical features and remove the others.\n",
        "\n",
        "Note that the features are not being removed from the main dataset - data. We'll select features with a feature selection technique later."
      ]
    },
    {
      "cell_type": "markdown",
      "metadata": {
        "id": "6_RrcbEWpQyj"
      },
      "source": [
        "Now we can look at the distributions of our categorical variables"
      ]
    },
    {
      "cell_type": "code",
      "metadata": {
        "colab": {
          "base_uri": "https://localhost:8080/"
        },
        "id": "46Nwpqs8rPX-",
        "outputId": "caa8f492-bb9c-42d4-aa6f-00a4d1eafbfe"
      },
      "source": [
        "categorical_data = data.drop(numeric_data.columns, axis=1)    # dropping the numerical columns from the dataframe 'data'\r\n",
        "categorical_data.nunique()   # nunique() return you the number of unique values in each column/feature"
      ],
      "execution_count": 28,
      "outputs": [
        {
          "output_type": "execute_result",
          "data": {
            "text/plain": [
              "ID_Patient_Care_Situation    23097\n",
              "Patient_ID                   10570\n",
              "Treated_with_drugs              32\n",
              "Patient_Smoker                   3\n",
              "Patient_Rural_Urban              2\n",
              "Patient_mental_condition         1\n",
              "A                                2\n",
              "B                                2\n",
              "C                                2\n",
              "D                                2\n",
              "E                                2\n",
              "F                                2\n",
              "Z                                2\n",
              "Survived_1_year                  2\n",
              "dtype: int64"
            ]
          },
          "metadata": {
            "tags": []
          },
          "execution_count": 28
        }
      ]
    },
    {
      "cell_type": "code",
      "metadata": {
        "colab": {
          "base_uri": "https://localhost:8080/"
        },
        "id": "yYsrWMhVRxCO",
        "outputId": "721df73f-6e0c-4e72-9f54-be337b5cc3f7"
      },
      "source": [
        "X_train.Treated_with_drugs.value_counts()"
      ],
      "execution_count": 29,
      "outputs": [
        {
          "output_type": "execute_result",
          "data": {
            "text/plain": [
              "DX6                     6861\n",
              "DX5                     1551\n",
              "DX2                     1545\n",
              "DX3                     1485\n",
              "DX1                     1465\n",
              "DX4                     1413\n",
              "DX1 DX2                  353\n",
              "DX1 DX3                  347\n",
              "DX3 DX4                  345\n",
              "DX4 DX5                  339\n",
              "DX3 DX5                  339\n",
              "DX1 DX5                  331\n",
              "DX2 DX4                  330\n",
              "DX1 DX4                  330\n",
              "DX2 DX5                  311\n",
              "DX2 DX3                  301\n",
              "DX1 DX2 DX5               81\n",
              "DX3 DX4 DX5               81\n",
              "DX1 DX3 DX5               81\n",
              "DX1 DX2 DX4               78\n",
              "DX1 DX2 DX3               77\n",
              "DX2 DX3 DX5               76\n",
              "DX1 DX3 DX4               76\n",
              "DX2 DX3 DX4               69\n",
              "DX1 DX4 DX5               64\n",
              "DX2 DX4 DX5               64\n",
              "DX1 DX2 DX3 DX4           19\n",
              "DX1 DX3 DX4 DX5           19\n",
              "DX2 DX3 DX4 DX5           18\n",
              "DX1 DX2 DX4 DX5           13\n",
              "DX1 DX2 DX3 DX5           12\n",
              "DX1 DX2 DX3 DX4 DX5        3\n",
              "Name: Treated_with_drugs, dtype: int64"
            ]
          },
          "metadata": {
            "tags": []
          },
          "execution_count": 29
        }
      ]
    },
    {
      "cell_type": "markdown",
      "metadata": {
        "id": "QK98olKTKlgW"
      },
      "source": [
        "So 'Treated_with_drugs' column has 32 unique values while 'Patient_Smoker' has only 3 categorical values. 'Patient_mental_condition' column has only 1 categorical value."
      ]
    },
    {
      "cell_type": "markdown",
      "metadata": {
        "id": "1ZujwFc9s6Ll"
      },
      "source": [
        "#### **Pre-Processing and Data Cleaning of Categorical Variables**\n"
      ]
    },
    {
      "cell_type": "markdown",
      "metadata": {
        "id": "d5kW3AifaV2w"
      },
      "source": [
        "We have discussed in our sessions that machine learning models accepts only numerical data. 'Treated_with_drugs' column is a categorical column and has values as combination of one or more drugs. Let's split all those combined drugs into individual drugs and create dummies for that."
      ]
    },
    {
      "cell_type": "code",
      "metadata": {
        "colab": {
          "base_uri": "https://localhost:8080/",
          "height": 195
        },
        "id": "vkpoKTeRb_jf",
        "outputId": "40ee1dbc-d0ed-443b-c7f1-ec0a3451ba7d"
      },
      "source": [
        "drugs = X_train['Treated_with_drugs'].str.get_dummies(sep=' ') # split all the entries separated by space and create dummy variable\n",
        "drugs.head()"
      ],
      "execution_count": 30,
      "outputs": [
        {
          "output_type": "execute_result",
          "data": {
            "text/html": [
              "<div>\n",
              "<style scoped>\n",
              "    .dataframe tbody tr th:only-of-type {\n",
              "        vertical-align: middle;\n",
              "    }\n",
              "\n",
              "    .dataframe tbody tr th {\n",
              "        vertical-align: top;\n",
              "    }\n",
              "\n",
              "    .dataframe thead th {\n",
              "        text-align: right;\n",
              "    }\n",
              "</style>\n",
              "<table border=\"1\" class=\"dataframe\">\n",
              "  <thead>\n",
              "    <tr style=\"text-align: right;\">\n",
              "      <th></th>\n",
              "      <th>DX1</th>\n",
              "      <th>DX2</th>\n",
              "      <th>DX3</th>\n",
              "      <th>DX4</th>\n",
              "      <th>DX5</th>\n",
              "      <th>DX6</th>\n",
              "    </tr>\n",
              "  </thead>\n",
              "  <tbody>\n",
              "    <tr>\n",
              "      <th>3955</th>\n",
              "      <td>0</td>\n",
              "      <td>0</td>\n",
              "      <td>0</td>\n",
              "      <td>0</td>\n",
              "      <td>0</td>\n",
              "      <td>1</td>\n",
              "    </tr>\n",
              "    <tr>\n",
              "      <th>13205</th>\n",
              "      <td>0</td>\n",
              "      <td>0</td>\n",
              "      <td>0</td>\n",
              "      <td>0</td>\n",
              "      <td>0</td>\n",
              "      <td>1</td>\n",
              "    </tr>\n",
              "    <tr>\n",
              "      <th>14868</th>\n",
              "      <td>0</td>\n",
              "      <td>0</td>\n",
              "      <td>0</td>\n",
              "      <td>0</td>\n",
              "      <td>1</td>\n",
              "      <td>0</td>\n",
              "    </tr>\n",
              "    <tr>\n",
              "      <th>13249</th>\n",
              "      <td>1</td>\n",
              "      <td>0</td>\n",
              "      <td>1</td>\n",
              "      <td>0</td>\n",
              "      <td>0</td>\n",
              "      <td>0</td>\n",
              "    </tr>\n",
              "    <tr>\n",
              "      <th>8383</th>\n",
              "      <td>1</td>\n",
              "      <td>1</td>\n",
              "      <td>1</td>\n",
              "      <td>0</td>\n",
              "      <td>0</td>\n",
              "      <td>0</td>\n",
              "    </tr>\n",
              "  </tbody>\n",
              "</table>\n",
              "</div>"
            ],
            "text/plain": [
              "       DX1  DX2  DX3  DX4  DX5  DX6\n",
              "3955     0    0    0    0    0    1\n",
              "13205    0    0    0    0    0    1\n",
              "14868    0    0    0    0    1    0\n",
              "13249    1    0    1    0    0    0\n",
              "8383     1    1    1    0    0    0"
            ]
          },
          "metadata": {
            "tags": []
          },
          "execution_count": 30
        }
      ]
    },
    {
      "cell_type": "code",
      "metadata": {
        "colab": {
          "base_uri": "https://localhost:8080/",
          "height": 215
        },
        "id": "Fl4oDOGVbYRw",
        "outputId": "50d02f35-b477-475d-e421-42a574c45f15"
      },
      "source": [
        "X_train = pd.concat([X_train, drugs], axis=1)     # concat the two dataframes 'drugs' and 'data'\n",
        "X_train = X_train.drop('Treated_with_drugs', axis=1)    # dropping the column 'Treated_with_drugs' as its values are now splitted into different columns\n",
        "\n",
        "X_train.head()"
      ],
      "execution_count": 31,
      "outputs": [
        {
          "output_type": "execute_result",
          "data": {
            "text/html": [
              "<div>\n",
              "<style scoped>\n",
              "    .dataframe tbody tr th:only-of-type {\n",
              "        vertical-align: middle;\n",
              "    }\n",
              "\n",
              "    .dataframe tbody tr th {\n",
              "        vertical-align: top;\n",
              "    }\n",
              "\n",
              "    .dataframe thead th {\n",
              "        text-align: right;\n",
              "    }\n",
              "</style>\n",
              "<table border=\"1\" class=\"dataframe\">\n",
              "  <thead>\n",
              "    <tr style=\"text-align: right;\">\n",
              "      <th></th>\n",
              "      <th>ID_Patient_Care_Situation</th>\n",
              "      <th>Diagnosed_Condition</th>\n",
              "      <th>Patient_ID</th>\n",
              "      <th>Patient_Age</th>\n",
              "      <th>Patient_Body_Mass_Index</th>\n",
              "      <th>Patient_Smoker</th>\n",
              "      <th>Patient_Rural_Urban</th>\n",
              "      <th>Patient_mental_condition</th>\n",
              "      <th>A</th>\n",
              "      <th>B</th>\n",
              "      <th>C</th>\n",
              "      <th>D</th>\n",
              "      <th>E</th>\n",
              "      <th>F</th>\n",
              "      <th>Z</th>\n",
              "      <th>Number_of_prev_cond</th>\n",
              "      <th>DX1</th>\n",
              "      <th>DX2</th>\n",
              "      <th>DX3</th>\n",
              "      <th>DX4</th>\n",
              "      <th>DX5</th>\n",
              "      <th>DX6</th>\n",
              "    </tr>\n",
              "  </thead>\n",
              "  <tbody>\n",
              "    <tr>\n",
              "      <th>3955</th>\n",
              "      <td>30300</td>\n",
              "      <td>10</td>\n",
              "      <td>4842</td>\n",
              "      <td>37</td>\n",
              "      <td>22.673581</td>\n",
              "      <td>YES</td>\n",
              "      <td>RURAL</td>\n",
              "      <td>Stable</td>\n",
              "      <td>1.0</td>\n",
              "      <td>0.0</td>\n",
              "      <td>0.0</td>\n",
              "      <td>0.0</td>\n",
              "      <td>0.0</td>\n",
              "      <td>0.0</td>\n",
              "      <td>0.0</td>\n",
              "      <td>1.0</td>\n",
              "      <td>0</td>\n",
              "      <td>0</td>\n",
              "      <td>0</td>\n",
              "      <td>0</td>\n",
              "      <td>0</td>\n",
              "      <td>1</td>\n",
              "    </tr>\n",
              "    <tr>\n",
              "      <th>13205</th>\n",
              "      <td>2888</td>\n",
              "      <td>44</td>\n",
              "      <td>1024</td>\n",
              "      <td>11</td>\n",
              "      <td>29.883019</td>\n",
              "      <td>NO</td>\n",
              "      <td>URBAN</td>\n",
              "      <td>Stable</td>\n",
              "      <td>1.0</td>\n",
              "      <td>0.0</td>\n",
              "      <td>0.0</td>\n",
              "      <td>0.0</td>\n",
              "      <td>1.0</td>\n",
              "      <td>0.0</td>\n",
              "      <td>0.0</td>\n",
              "      <td>2.0</td>\n",
              "      <td>0</td>\n",
              "      <td>0</td>\n",
              "      <td>0</td>\n",
              "      <td>0</td>\n",
              "      <td>0</td>\n",
              "      <td>1</td>\n",
              "    </tr>\n",
              "    <tr>\n",
              "      <th>14868</th>\n",
              "      <td>3234</td>\n",
              "      <td>49</td>\n",
              "      <td>195</td>\n",
              "      <td>53</td>\n",
              "      <td>17.580741</td>\n",
              "      <td>YES</td>\n",
              "      <td>RURAL</td>\n",
              "      <td>Stable</td>\n",
              "      <td>0.0</td>\n",
              "      <td>0.0</td>\n",
              "      <td>0.0</td>\n",
              "      <td>0.0</td>\n",
              "      <td>1.0</td>\n",
              "      <td>0.0</td>\n",
              "      <td>0.0</td>\n",
              "      <td>1.0</td>\n",
              "      <td>0</td>\n",
              "      <td>0</td>\n",
              "      <td>0</td>\n",
              "      <td>0</td>\n",
              "      <td>1</td>\n",
              "      <td>0</td>\n",
              "    </tr>\n",
              "    <tr>\n",
              "      <th>13249</th>\n",
              "      <td>15704</td>\n",
              "      <td>27</td>\n",
              "      <td>291</td>\n",
              "      <td>22</td>\n",
              "      <td>21.468654</td>\n",
              "      <td>NO</td>\n",
              "      <td>URBAN</td>\n",
              "      <td>Stable</td>\n",
              "      <td>1.0</td>\n",
              "      <td>1.0</td>\n",
              "      <td>0.0</td>\n",
              "      <td>0.0</td>\n",
              "      <td>0.0</td>\n",
              "      <td>0.0</td>\n",
              "      <td>0.0</td>\n",
              "      <td>2.0</td>\n",
              "      <td>1</td>\n",
              "      <td>0</td>\n",
              "      <td>1</td>\n",
              "      <td>0</td>\n",
              "      <td>0</td>\n",
              "      <td>0</td>\n",
              "    </tr>\n",
              "    <tr>\n",
              "      <th>8383</th>\n",
              "      <td>10661</td>\n",
              "      <td>24</td>\n",
              "      <td>5543</td>\n",
              "      <td>62</td>\n",
              "      <td>29.204603</td>\n",
              "      <td>NO</td>\n",
              "      <td>URBAN</td>\n",
              "      <td>Stable</td>\n",
              "      <td>1.0</td>\n",
              "      <td>0.0</td>\n",
              "      <td>0.0</td>\n",
              "      <td>0.0</td>\n",
              "      <td>0.0</td>\n",
              "      <td>0.0</td>\n",
              "      <td>0.0</td>\n",
              "      <td>1.0</td>\n",
              "      <td>1</td>\n",
              "      <td>1</td>\n",
              "      <td>1</td>\n",
              "      <td>0</td>\n",
              "      <td>0</td>\n",
              "      <td>0</td>\n",
              "    </tr>\n",
              "  </tbody>\n",
              "</table>\n",
              "</div>"
            ],
            "text/plain": [
              "       ID_Patient_Care_Situation  Diagnosed_Condition  ...  DX5  DX6\n",
              "3955                       30300                   10  ...    0    1\n",
              "13205                       2888                   44  ...    0    1\n",
              "14868                       3234                   49  ...    1    0\n",
              "13249                      15704                   27  ...    0    0\n",
              "8383                       10661                   24  ...    0    0\n",
              "\n",
              "[5 rows x 22 columns]"
            ]
          },
          "metadata": {
            "tags": []
          },
          "execution_count": 31
        }
      ]
    },
    {
      "cell_type": "markdown",
      "metadata": {
        "id": "whhruSdecdRd"
      },
      "source": [
        "'Patient_Smoker' is also a categorical column and we need to create dummies for this too. If you observe the data, the column 'Patient_Smoker' has a category 'Cannot say'."
      ]
    },
    {
      "cell_type": "code",
      "metadata": {
        "colab": {
          "base_uri": "https://localhost:8080/"
        },
        "id": "WSfuJTEms-It",
        "outputId": "9910f146-070e-469a-b04f-c41795801d02"
      },
      "source": [
        "X_train.Patient_Smoker.value_counts()"
      ],
      "execution_count": 32,
      "outputs": [
        {
          "output_type": "execute_result",
          "data": {
            "text/plain": [
              "NO            10602\n",
              "YES            7863\n",
              "Cannot say       12\n",
              "Name: Patient_Smoker, dtype: int64"
            ]
          },
          "metadata": {
            "tags": []
          },
          "execution_count": 32
        }
      ]
    },
    {
      "cell_type": "markdown",
      "metadata": {
        "id": "TsOHY4eScvGY"
      },
      "source": [
        "There can be different ways to deal with the category 'Cannot say'. Here we will consider it as missing value and fill those entries with the mode value of the column."
      ]
    },
    {
      "cell_type": "code",
      "metadata": {
        "id": "18ITWDSydI96"
      },
      "source": [
        "X_train.Patient_Smoker[X_train['Patient_Smoker'] == \"Cannot say\"] = 'NO'    # we already know 'NO' is the mode so directly changing the values 'Cannot say' to 'NO'"
      ],
      "execution_count": 33,
      "outputs": []
    },
    {
      "cell_type": "markdown",
      "metadata": {
        "id": "TGZefyJ7dgDq"
      },
      "source": [
        "The column 'Patient_mental_condition' has only one category 'stable'. So we can drop this column as for every observation the entry here is 'stable'. This feature won’t be useful for making the prediction of the target variable as it doesn’t provide any useful insights of the data. Hence, It is better to remove this kind of features."
      ]
    },
    {
      "cell_type": "code",
      "metadata": {
        "colab": {
          "base_uri": "https://localhost:8080/"
        },
        "id": "P4WrslelSIBe",
        "outputId": "69d2d39a-ed63-4ec0-f23b-d851730918f4"
      },
      "source": [
        "X_train.info()"
      ],
      "execution_count": 34,
      "outputs": [
        {
          "output_type": "stream",
          "text": [
            "<class 'pandas.core.frame.DataFrame'>\n",
            "Int64Index: 18477 entries, 3955 to 13126\n",
            "Data columns (total 22 columns):\n",
            " #   Column                     Non-Null Count  Dtype  \n",
            "---  ------                     --------------  -----  \n",
            " 0   ID_Patient_Care_Situation  18477 non-null  int64  \n",
            " 1   Diagnosed_Condition        18477 non-null  int64  \n",
            " 2   Patient_ID                 18477 non-null  int64  \n",
            " 3   Patient_Age                18477 non-null  int64  \n",
            " 4   Patient_Body_Mass_Index    18477 non-null  float64\n",
            " 5   Patient_Smoker             18477 non-null  object \n",
            " 6   Patient_Rural_Urban        18477 non-null  object \n",
            " 7   Patient_mental_condition   18477 non-null  object \n",
            " 8   A                          18477 non-null  float64\n",
            " 9   B                          18477 non-null  float64\n",
            " 10  C                          18477 non-null  float64\n",
            " 11  D                          18477 non-null  float64\n",
            " 12  E                          18477 non-null  float64\n",
            " 13  F                          18477 non-null  float64\n",
            " 14  Z                          18477 non-null  float64\n",
            " 15  Number_of_prev_cond        18477 non-null  float64\n",
            " 16  DX1                        18477 non-null  int64  \n",
            " 17  DX2                        18477 non-null  int64  \n",
            " 18  DX3                        18477 non-null  int64  \n",
            " 19  DX4                        18477 non-null  int64  \n",
            " 20  DX5                        18477 non-null  int64  \n",
            " 21  DX6                        18477 non-null  int64  \n",
            "dtypes: float64(9), int64(10), object(3)\n",
            "memory usage: 3.9+ MB\n"
          ],
          "name": "stdout"
        }
      ]
    },
    {
      "cell_type": "code",
      "metadata": {
        "id": "KgaSeiZzdffq"
      },
      "source": [
        "X_train.drop('Patient_mental_condition', axis = 1, inplace=True)"
      ],
      "execution_count": 35,
      "outputs": []
    },
    {
      "cell_type": "markdown",
      "metadata": {
        "id": "5XnSOj08fMLL"
      },
      "source": [
        "Now let's convert the remaining categorical column to numerical using get_dummies() function of pandas (i.e. one hot encoding)."
      ]
    },
    {
      "cell_type": "code",
      "metadata": {
        "id": "XVqbVolzfeza"
      },
      "source": [
        "X_train = pd.get_dummies(X_train, columns=['Patient_Smoker', 'Patient_Rural_Urban'])"
      ],
      "execution_count": 36,
      "outputs": []
    },
    {
      "cell_type": "code",
      "metadata": {
        "colab": {
          "base_uri": "https://localhost:8080/",
          "height": 215
        },
        "id": "z-uhGXbLB6AV",
        "outputId": "7b579d35-9535-4f61-a643-68d7cc049cc2"
      },
      "source": [
        "X_train.head()"
      ],
      "execution_count": 37,
      "outputs": [
        {
          "output_type": "execute_result",
          "data": {
            "text/html": [
              "<div>\n",
              "<style scoped>\n",
              "    .dataframe tbody tr th:only-of-type {\n",
              "        vertical-align: middle;\n",
              "    }\n",
              "\n",
              "    .dataframe tbody tr th {\n",
              "        vertical-align: top;\n",
              "    }\n",
              "\n",
              "    .dataframe thead th {\n",
              "        text-align: right;\n",
              "    }\n",
              "</style>\n",
              "<table border=\"1\" class=\"dataframe\">\n",
              "  <thead>\n",
              "    <tr style=\"text-align: right;\">\n",
              "      <th></th>\n",
              "      <th>ID_Patient_Care_Situation</th>\n",
              "      <th>Diagnosed_Condition</th>\n",
              "      <th>Patient_ID</th>\n",
              "      <th>Patient_Age</th>\n",
              "      <th>Patient_Body_Mass_Index</th>\n",
              "      <th>A</th>\n",
              "      <th>B</th>\n",
              "      <th>C</th>\n",
              "      <th>D</th>\n",
              "      <th>E</th>\n",
              "      <th>F</th>\n",
              "      <th>Z</th>\n",
              "      <th>Number_of_prev_cond</th>\n",
              "      <th>DX1</th>\n",
              "      <th>DX2</th>\n",
              "      <th>DX3</th>\n",
              "      <th>DX4</th>\n",
              "      <th>DX5</th>\n",
              "      <th>DX6</th>\n",
              "      <th>Patient_Smoker_NO</th>\n",
              "      <th>Patient_Smoker_YES</th>\n",
              "      <th>Patient_Rural_Urban_RURAL</th>\n",
              "      <th>Patient_Rural_Urban_URBAN</th>\n",
              "    </tr>\n",
              "  </thead>\n",
              "  <tbody>\n",
              "    <tr>\n",
              "      <th>3955</th>\n",
              "      <td>30300</td>\n",
              "      <td>10</td>\n",
              "      <td>4842</td>\n",
              "      <td>37</td>\n",
              "      <td>22.673581</td>\n",
              "      <td>1.0</td>\n",
              "      <td>0.0</td>\n",
              "      <td>0.0</td>\n",
              "      <td>0.0</td>\n",
              "      <td>0.0</td>\n",
              "      <td>0.0</td>\n",
              "      <td>0.0</td>\n",
              "      <td>1.0</td>\n",
              "      <td>0</td>\n",
              "      <td>0</td>\n",
              "      <td>0</td>\n",
              "      <td>0</td>\n",
              "      <td>0</td>\n",
              "      <td>1</td>\n",
              "      <td>0</td>\n",
              "      <td>1</td>\n",
              "      <td>1</td>\n",
              "      <td>0</td>\n",
              "    </tr>\n",
              "    <tr>\n",
              "      <th>13205</th>\n",
              "      <td>2888</td>\n",
              "      <td>44</td>\n",
              "      <td>1024</td>\n",
              "      <td>11</td>\n",
              "      <td>29.883019</td>\n",
              "      <td>1.0</td>\n",
              "      <td>0.0</td>\n",
              "      <td>0.0</td>\n",
              "      <td>0.0</td>\n",
              "      <td>1.0</td>\n",
              "      <td>0.0</td>\n",
              "      <td>0.0</td>\n",
              "      <td>2.0</td>\n",
              "      <td>0</td>\n",
              "      <td>0</td>\n",
              "      <td>0</td>\n",
              "      <td>0</td>\n",
              "      <td>0</td>\n",
              "      <td>1</td>\n",
              "      <td>1</td>\n",
              "      <td>0</td>\n",
              "      <td>0</td>\n",
              "      <td>1</td>\n",
              "    </tr>\n",
              "    <tr>\n",
              "      <th>14868</th>\n",
              "      <td>3234</td>\n",
              "      <td>49</td>\n",
              "      <td>195</td>\n",
              "      <td>53</td>\n",
              "      <td>17.580741</td>\n",
              "      <td>0.0</td>\n",
              "      <td>0.0</td>\n",
              "      <td>0.0</td>\n",
              "      <td>0.0</td>\n",
              "      <td>1.0</td>\n",
              "      <td>0.0</td>\n",
              "      <td>0.0</td>\n",
              "      <td>1.0</td>\n",
              "      <td>0</td>\n",
              "      <td>0</td>\n",
              "      <td>0</td>\n",
              "      <td>0</td>\n",
              "      <td>1</td>\n",
              "      <td>0</td>\n",
              "      <td>0</td>\n",
              "      <td>1</td>\n",
              "      <td>1</td>\n",
              "      <td>0</td>\n",
              "    </tr>\n",
              "    <tr>\n",
              "      <th>13249</th>\n",
              "      <td>15704</td>\n",
              "      <td>27</td>\n",
              "      <td>291</td>\n",
              "      <td>22</td>\n",
              "      <td>21.468654</td>\n",
              "      <td>1.0</td>\n",
              "      <td>1.0</td>\n",
              "      <td>0.0</td>\n",
              "      <td>0.0</td>\n",
              "      <td>0.0</td>\n",
              "      <td>0.0</td>\n",
              "      <td>0.0</td>\n",
              "      <td>2.0</td>\n",
              "      <td>1</td>\n",
              "      <td>0</td>\n",
              "      <td>1</td>\n",
              "      <td>0</td>\n",
              "      <td>0</td>\n",
              "      <td>0</td>\n",
              "      <td>1</td>\n",
              "      <td>0</td>\n",
              "      <td>0</td>\n",
              "      <td>1</td>\n",
              "    </tr>\n",
              "    <tr>\n",
              "      <th>8383</th>\n",
              "      <td>10661</td>\n",
              "      <td>24</td>\n",
              "      <td>5543</td>\n",
              "      <td>62</td>\n",
              "      <td>29.204603</td>\n",
              "      <td>1.0</td>\n",
              "      <td>0.0</td>\n",
              "      <td>0.0</td>\n",
              "      <td>0.0</td>\n",
              "      <td>0.0</td>\n",
              "      <td>0.0</td>\n",
              "      <td>0.0</td>\n",
              "      <td>1.0</td>\n",
              "      <td>1</td>\n",
              "      <td>1</td>\n",
              "      <td>1</td>\n",
              "      <td>0</td>\n",
              "      <td>0</td>\n",
              "      <td>0</td>\n",
              "      <td>1</td>\n",
              "      <td>0</td>\n",
              "      <td>0</td>\n",
              "      <td>1</td>\n",
              "    </tr>\n",
              "  </tbody>\n",
              "</table>\n",
              "</div>"
            ],
            "text/plain": [
              "       ID_Patient_Care_Situation  ...  Patient_Rural_Urban_URBAN\n",
              "3955                       30300  ...                          0\n",
              "13205                       2888  ...                          1\n",
              "14868                       3234  ...                          0\n",
              "13249                      15704  ...                          1\n",
              "8383                       10661  ...                          1\n",
              "\n",
              "[5 rows x 23 columns]"
            ]
          },
          "metadata": {
            "tags": []
          },
          "execution_count": 37
        }
      ]
    },
    {
      "cell_type": "code",
      "metadata": {
        "colab": {
          "base_uri": "https://localhost:8080/"
        },
        "id": "16PKOIqsvKfY",
        "outputId": "2eb525f9-12e1-4123-a561-7ef27aa2506f"
      },
      "source": [
        "X_train.info()"
      ],
      "execution_count": 38,
      "outputs": [
        {
          "output_type": "stream",
          "text": [
            "<class 'pandas.core.frame.DataFrame'>\n",
            "Int64Index: 18477 entries, 3955 to 13126\n",
            "Data columns (total 23 columns):\n",
            " #   Column                     Non-Null Count  Dtype  \n",
            "---  ------                     --------------  -----  \n",
            " 0   ID_Patient_Care_Situation  18477 non-null  int64  \n",
            " 1   Diagnosed_Condition        18477 non-null  int64  \n",
            " 2   Patient_ID                 18477 non-null  int64  \n",
            " 3   Patient_Age                18477 non-null  int64  \n",
            " 4   Patient_Body_Mass_Index    18477 non-null  float64\n",
            " 5   A                          18477 non-null  float64\n",
            " 6   B                          18477 non-null  float64\n",
            " 7   C                          18477 non-null  float64\n",
            " 8   D                          18477 non-null  float64\n",
            " 9   E                          18477 non-null  float64\n",
            " 10  F                          18477 non-null  float64\n",
            " 11  Z                          18477 non-null  float64\n",
            " 12  Number_of_prev_cond        18477 non-null  float64\n",
            " 13  DX1                        18477 non-null  int64  \n",
            " 14  DX2                        18477 non-null  int64  \n",
            " 15  DX3                        18477 non-null  int64  \n",
            " 16  DX4                        18477 non-null  int64  \n",
            " 17  DX5                        18477 non-null  int64  \n",
            " 18  DX6                        18477 non-null  int64  \n",
            " 19  Patient_Smoker_NO          18477 non-null  uint8  \n",
            " 20  Patient_Smoker_YES         18477 non-null  uint8  \n",
            " 21  Patient_Rural_Urban_RURAL  18477 non-null  uint8  \n",
            " 22  Patient_Rural_Urban_URBAN  18477 non-null  uint8  \n",
            "dtypes: float64(9), int64(10), uint8(4)\n",
            "memory usage: 3.5 MB\n"
          ],
          "name": "stdout"
        }
      ]
    },
    {
      "cell_type": "markdown",
      "metadata": {
        "id": "jXtT9LCLQ1os"
      },
      "source": [
        "As you can see there are no missing data now and all the data are of numerical type."
      ]
    },
    {
      "cell_type": "markdown",
      "metadata": {
        "id": "wL24zhbweDkn"
      },
      "source": [
        "There are two ID columns - 'ID_Patient_Care_Situation' and 'Patient_ID'. We can think of removing these columns if these are randomly generated value and there is not any id repeated like we had done for the 'PassengerId' in Titanic Dataset. 'PassengerId' was randomly generated for each passenger and none of the ids were repeated. So let's check these two ids columns."
      ]
    },
    {
      "cell_type": "code",
      "metadata": {
        "colab": {
          "base_uri": "https://localhost:8080/"
        },
        "id": "BhIMvJQhgaoV",
        "outputId": "7031b636-020e-412c-d9c9-def901bd3ef5"
      },
      "source": [
        "print(X_train.ID_Patient_Care_Situation.nunique())     # nunique() gives you the count of unique values in the column\n",
        "print(X_train.Patient_ID.nunique())"
      ],
      "execution_count": 39,
      "outputs": [
        {
          "output_type": "stream",
          "text": [
            "18477\n",
            "9717\n"
          ],
          "name": "stdout"
        }
      ]
    },
    {
      "cell_type": "markdown",
      "metadata": {
        "id": "wIn655R2j2LX"
      },
      "source": [
        "You can see there are 18477 unique 'ID_Patient_Care_Situation' and there are 23097 total observations in the dataset. So this column can be dropped.\n",
        "\n",
        "Now, there are only 9717 unique values in the column 'Patient_ID'. This means there are some patient who came two or more times in the hospital because it is possible the same person was sick for two or more than two times (with different illness) and visited hospital for the treatment. And the same patient will have different caring condition for different diseases. \n",
        "\n",
        "So there are some useful information in the column - 'Patient_ID' and thus we will not drop this column."
      ]
    },
    {
      "cell_type": "code",
      "metadata": {
        "id": "yPCUFDQ7kMPf"
      },
      "source": [
        "X_train.drop(['ID_Patient_Care_Situation'], axis =1, inplace=True)"
      ],
      "execution_count": 40,
      "outputs": []
    },
    {
      "cell_type": "markdown",
      "metadata": {
        "id": "6Zcses6n93dK"
      },
      "source": [
        "## Test Data (X_test)\n",
        "Tasks to be performed:\n",
        "*  If missing values are there then fill the missing values with the same techniques that were used for training dataset\n",
        "*  Convert categorical column to numerical\n",
        "*  Predict the output\n",
        "*  Evaluate the model\n",
        "\n",
        "Why do we need to do the same procedure of filling missing values, data cleaning and data preprocessing on the new test data as it was done for the training and evaluation data?\n",
        "\n",
        "**Ans:** Because our model has been trained on certain format of data and if we don't provide the testing data of the similar format, the model will give erroneous predictions and the accuracy/f1 score of the model will decrease. Also, if the model was build on 'n' number of features, while predicting on new test data you should always give the same number of features to the model. In this case if you provide different number of features while predicting the output, your ML model will throw a **ValueError** saying something like **'number of features given x; expecting n'**. Not confident about these statements? Well, as a data scientist you should always perform some experiment and observe the results."
      ]
    },
    {
      "cell_type": "code",
      "metadata": {
        "id": "y8_OTxMO-T9S"
      },
      "source": [
        "# copy the test data to a new variable test_new_data\n",
        "test_new_data = X_test.copy()"
      ],
      "execution_count": 41,
      "outputs": []
    },
    {
      "cell_type": "code",
      "metadata": {
        "colab": {
          "base_uri": "https://localhost:8080/",
          "height": 215
        },
        "id": "kRGpDZjfC0H4",
        "outputId": "f3a68d1e-0e3a-4f9b-d7dc-1cc3cab2b519"
      },
      "source": [
        "# take a look how the new test data look like\n",
        "test_new_data.head()"
      ],
      "execution_count": 42,
      "outputs": [
        {
          "output_type": "execute_result",
          "data": {
            "text/html": [
              "<div>\n",
              "<style scoped>\n",
              "    .dataframe tbody tr th:only-of-type {\n",
              "        vertical-align: middle;\n",
              "    }\n",
              "\n",
              "    .dataframe tbody tr th {\n",
              "        vertical-align: top;\n",
              "    }\n",
              "\n",
              "    .dataframe thead th {\n",
              "        text-align: right;\n",
              "    }\n",
              "</style>\n",
              "<table border=\"1\" class=\"dataframe\">\n",
              "  <thead>\n",
              "    <tr style=\"text-align: right;\">\n",
              "      <th></th>\n",
              "      <th>ID_Patient_Care_Situation</th>\n",
              "      <th>Diagnosed_Condition</th>\n",
              "      <th>Patient_ID</th>\n",
              "      <th>Treated_with_drugs</th>\n",
              "      <th>Patient_Age</th>\n",
              "      <th>Patient_Body_Mass_Index</th>\n",
              "      <th>Patient_Smoker</th>\n",
              "      <th>Patient_Rural_Urban</th>\n",
              "      <th>Patient_mental_condition</th>\n",
              "      <th>A</th>\n",
              "      <th>B</th>\n",
              "      <th>C</th>\n",
              "      <th>D</th>\n",
              "      <th>E</th>\n",
              "      <th>F</th>\n",
              "      <th>Z</th>\n",
              "      <th>Number_of_prev_cond</th>\n",
              "    </tr>\n",
              "  </thead>\n",
              "  <tbody>\n",
              "    <tr>\n",
              "      <th>3652</th>\n",
              "      <td>32215</td>\n",
              "      <td>1</td>\n",
              "      <td>11894</td>\n",
              "      <td>DX1 DX2</td>\n",
              "      <td>22</td>\n",
              "      <td>29.033409</td>\n",
              "      <td>NO</td>\n",
              "      <td>RURAL</td>\n",
              "      <td>Stable</td>\n",
              "      <td>1.0</td>\n",
              "      <td>0.0</td>\n",
              "      <td>0.0</td>\n",
              "      <td>0.0</td>\n",
              "      <td>0.0</td>\n",
              "      <td>0.0</td>\n",
              "      <td>0.0</td>\n",
              "      <td>1.0</td>\n",
              "    </tr>\n",
              "    <tr>\n",
              "      <th>13452</th>\n",
              "      <td>25391</td>\n",
              "      <td>20</td>\n",
              "      <td>1096</td>\n",
              "      <td>DX2</td>\n",
              "      <td>1</td>\n",
              "      <td>19.195376</td>\n",
              "      <td>NO</td>\n",
              "      <td>RURAL</td>\n",
              "      <td>Stable</td>\n",
              "      <td>1.0</td>\n",
              "      <td>1.0</td>\n",
              "      <td>0.0</td>\n",
              "      <td>0.0</td>\n",
              "      <td>1.0</td>\n",
              "      <td>0.0</td>\n",
              "      <td>0.0</td>\n",
              "      <td>3.0</td>\n",
              "    </tr>\n",
              "    <tr>\n",
              "      <th>8804</th>\n",
              "      <td>2542</td>\n",
              "      <td>24</td>\n",
              "      <td>2689</td>\n",
              "      <td>DX1 DX2 DX4</td>\n",
              "      <td>42</td>\n",
              "      <td>26.581994</td>\n",
              "      <td>YES</td>\n",
              "      <td>URBAN</td>\n",
              "      <td>Stable</td>\n",
              "      <td>1.0</td>\n",
              "      <td>0.0</td>\n",
              "      <td>1.0</td>\n",
              "      <td>0.0</td>\n",
              "      <td>0.0</td>\n",
              "      <td>0.0</td>\n",
              "      <td>0.0</td>\n",
              "      <td>2.0</td>\n",
              "    </tr>\n",
              "    <tr>\n",
              "      <th>4842</th>\n",
              "      <td>10691</td>\n",
              "      <td>4</td>\n",
              "      <td>4670</td>\n",
              "      <td>DX6</td>\n",
              "      <td>55</td>\n",
              "      <td>29.730528</td>\n",
              "      <td>NO</td>\n",
              "      <td>URBAN</td>\n",
              "      <td>Stable</td>\n",
              "      <td>0.0</td>\n",
              "      <td>0.0</td>\n",
              "      <td>0.0</td>\n",
              "      <td>0.0</td>\n",
              "      <td>1.0</td>\n",
              "      <td>1.0</td>\n",
              "      <td>0.0</td>\n",
              "      <td>2.0</td>\n",
              "    </tr>\n",
              "    <tr>\n",
              "      <th>23083</th>\n",
              "      <td>1799</td>\n",
              "      <td>50</td>\n",
              "      <td>5322</td>\n",
              "      <td>DX4</td>\n",
              "      <td>52</td>\n",
              "      <td>18.827974</td>\n",
              "      <td>NO</td>\n",
              "      <td>RURAL</td>\n",
              "      <td>Stable</td>\n",
              "      <td>1.0</td>\n",
              "      <td>1.0</td>\n",
              "      <td>0.0</td>\n",
              "      <td>0.0</td>\n",
              "      <td>0.0</td>\n",
              "      <td>1.0</td>\n",
              "      <td>0.0</td>\n",
              "      <td>3.0</td>\n",
              "    </tr>\n",
              "  </tbody>\n",
              "</table>\n",
              "</div>"
            ],
            "text/plain": [
              "       ID_Patient_Care_Situation  Diagnosed_Condition  ...    Z Number_of_prev_cond\n",
              "3652                       32215                    1  ...  0.0                 1.0\n",
              "13452                      25391                   20  ...  0.0                 3.0\n",
              "8804                        2542                   24  ...  0.0                 2.0\n",
              "4842                       10691                    4  ...  0.0                 2.0\n",
              "23083                       1799                   50  ...  0.0                 3.0\n",
              "\n",
              "[5 rows x 17 columns]"
            ]
          },
          "metadata": {
            "tags": []
          },
          "execution_count": 42
        }
      ]
    },
    {
      "cell_type": "markdown",
      "metadata": {
        "id": "jZSfE-_LZ3vl"
      },
      "source": [
        "**Can you observe the test data here?** It is in the same format as our training data before performing any cleaning and preprocessing."
      ]
    },
    {
      "cell_type": "markdown",
      "metadata": {
        "id": "yFQlpdXA_gnL"
      },
      "source": [
        "### Checking missing values"
      ]
    },
    {
      "cell_type": "code",
      "metadata": {
        "colab": {
          "base_uri": "https://localhost:8080/"
        },
        "id": "6vt-otfd_fsC",
        "outputId": "c62c9db5-52cf-495b-9c52-31912e5b6996"
      },
      "source": [
        "test_new_data.isnull().sum()"
      ],
      "execution_count": 43,
      "outputs": [
        {
          "output_type": "execute_result",
          "data": {
            "text/plain": [
              "ID_Patient_Care_Situation      0\n",
              "Diagnosed_Condition            0\n",
              "Patient_ID                     0\n",
              "Treated_with_drugs             1\n",
              "Patient_Age                    0\n",
              "Patient_Body_Mass_Index        0\n",
              "Patient_Smoker                 0\n",
              "Patient_Rural_Urban            0\n",
              "Patient_mental_condition       0\n",
              "A                            240\n",
              "B                            240\n",
              "C                            240\n",
              "D                            240\n",
              "E                            240\n",
              "F                            240\n",
              "Z                            240\n",
              "Number_of_prev_cond          240\n",
              "dtype: int64"
            ]
          },
          "metadata": {
            "tags": []
          },
          "execution_count": 43
        }
      ]
    },
    {
      "cell_type": "markdown",
      "metadata": {
        "id": "hd339aqZaQ6T"
      },
      "source": [
        "### Filling missing values"
      ]
    },
    {
      "cell_type": "code",
      "metadata": {
        "id": "G8xyK3_qV1UX"
      },
      "source": [
        "test_new_data['Treated_with_drugs']=test_new_data['Treated_with_drugs'].fillna(test_new_data['Treated_with_drugs'].mode()[0])"
      ],
      "execution_count": 44,
      "outputs": []
    },
    {
      "cell_type": "code",
      "metadata": {
        "id": "ldbbBhXWV1Uy"
      },
      "source": [
        "test_new_data['A'].fillna(test_new_data['A'].mode()[0], inplace = True)\n",
        "test_new_data['B'].fillna(test_new_data['B'].mode()[0], inplace = True)\n",
        "test_new_data['C'].fillna(test_new_data['C'].mode()[0], inplace = True)\n",
        "test_new_data['D'].fillna(test_new_data['D'].mode()[0], inplace = True)\n",
        "test_new_data['E'].fillna(test_new_data['E'].mode()[0], inplace = True)\n",
        "test_new_data['F'].fillna(test_new_data['F'].mode()[0], inplace = True)\n",
        "test_new_data['Z'].fillna(test_new_data['Z'].mode()[0], inplace = True)\n",
        "test_new_data['Number_of_prev_cond'].fillna(test_new_data['Number_of_prev_cond'].mode()[0], inplace = True)"
      ],
      "execution_count": 45,
      "outputs": []
    },
    {
      "cell_type": "code",
      "metadata": {
        "colab": {
          "base_uri": "https://localhost:8080/"
        },
        "id": "98LhmdMWV1Uz",
        "outputId": "e7a47c85-1217-4443-9b3c-bc377f764011"
      },
      "source": [
        "test_new_data.isnull().sum()"
      ],
      "execution_count": 46,
      "outputs": [
        {
          "output_type": "execute_result",
          "data": {
            "text/plain": [
              "ID_Patient_Care_Situation    0\n",
              "Diagnosed_Condition          0\n",
              "Patient_ID                   0\n",
              "Treated_with_drugs           0\n",
              "Patient_Age                  0\n",
              "Patient_Body_Mass_Index      0\n",
              "Patient_Smoker               0\n",
              "Patient_Rural_Urban          0\n",
              "Patient_mental_condition     0\n",
              "A                            0\n",
              "B                            0\n",
              "C                            0\n",
              "D                            0\n",
              "E                            0\n",
              "F                            0\n",
              "Z                            0\n",
              "Number_of_prev_cond          0\n",
              "dtype: int64"
            ]
          },
          "metadata": {
            "tags": []
          },
          "execution_count": 46
        }
      ]
    },
    {
      "cell_type": "markdown",
      "metadata": {
        "id": "wq4LLewO_neT"
      },
      "source": [
        "#### Preprocessing and data cleaning: same as we did on training data"
      ]
    },
    {
      "cell_type": "code",
      "metadata": {
        "colab": {
          "base_uri": "https://localhost:8080/",
          "height": 195
        },
        "id": "vy4Fg943_uG4",
        "outputId": "0244d176-24fa-4370-e38b-507ab82e4022"
      },
      "source": [
        "drugs = test_new_data['Treated_with_drugs'].str.get_dummies(sep=' ') # split all the entries\n",
        "drugs.head()"
      ],
      "execution_count": 47,
      "outputs": [
        {
          "output_type": "execute_result",
          "data": {
            "text/html": [
              "<div>\n",
              "<style scoped>\n",
              "    .dataframe tbody tr th:only-of-type {\n",
              "        vertical-align: middle;\n",
              "    }\n",
              "\n",
              "    .dataframe tbody tr th {\n",
              "        vertical-align: top;\n",
              "    }\n",
              "\n",
              "    .dataframe thead th {\n",
              "        text-align: right;\n",
              "    }\n",
              "</style>\n",
              "<table border=\"1\" class=\"dataframe\">\n",
              "  <thead>\n",
              "    <tr style=\"text-align: right;\">\n",
              "      <th></th>\n",
              "      <th>DX1</th>\n",
              "      <th>DX2</th>\n",
              "      <th>DX3</th>\n",
              "      <th>DX4</th>\n",
              "      <th>DX5</th>\n",
              "      <th>DX6</th>\n",
              "    </tr>\n",
              "  </thead>\n",
              "  <tbody>\n",
              "    <tr>\n",
              "      <th>3652</th>\n",
              "      <td>1</td>\n",
              "      <td>1</td>\n",
              "      <td>0</td>\n",
              "      <td>0</td>\n",
              "      <td>0</td>\n",
              "      <td>0</td>\n",
              "    </tr>\n",
              "    <tr>\n",
              "      <th>13452</th>\n",
              "      <td>0</td>\n",
              "      <td>1</td>\n",
              "      <td>0</td>\n",
              "      <td>0</td>\n",
              "      <td>0</td>\n",
              "      <td>0</td>\n",
              "    </tr>\n",
              "    <tr>\n",
              "      <th>8804</th>\n",
              "      <td>1</td>\n",
              "      <td>1</td>\n",
              "      <td>0</td>\n",
              "      <td>1</td>\n",
              "      <td>0</td>\n",
              "      <td>0</td>\n",
              "    </tr>\n",
              "    <tr>\n",
              "      <th>4842</th>\n",
              "      <td>0</td>\n",
              "      <td>0</td>\n",
              "      <td>0</td>\n",
              "      <td>0</td>\n",
              "      <td>0</td>\n",
              "      <td>1</td>\n",
              "    </tr>\n",
              "    <tr>\n",
              "      <th>23083</th>\n",
              "      <td>0</td>\n",
              "      <td>0</td>\n",
              "      <td>0</td>\n",
              "      <td>1</td>\n",
              "      <td>0</td>\n",
              "      <td>0</td>\n",
              "    </tr>\n",
              "  </tbody>\n",
              "</table>\n",
              "</div>"
            ],
            "text/plain": [
              "       DX1  DX2  DX3  DX4  DX5  DX6\n",
              "3652     1    1    0    0    0    0\n",
              "13452    0    1    0    0    0    0\n",
              "8804     1    1    0    1    0    0\n",
              "4842     0    0    0    0    0    1\n",
              "23083    0    0    0    1    0    0"
            ]
          },
          "metadata": {
            "tags": []
          },
          "execution_count": 47
        }
      ]
    },
    {
      "cell_type": "code",
      "metadata": {
        "colab": {
          "base_uri": "https://localhost:8080/",
          "height": 215
        },
        "id": "n8cnZ23hADmG",
        "outputId": "0306534a-125e-4108-f90f-4ca9a8382d76"
      },
      "source": [
        "test_new_data = pd.concat([test_new_data, drugs], axis=1)     # concat the two dataframes 'drugs' and 'data'\n",
        "test_new_data = test_new_data.drop('Treated_with_drugs', axis=1)    # dropping the column 'Treated_with_drugs' as its values are splitted into different columns\n",
        "\n",
        "test_new_data.head()"
      ],
      "execution_count": 48,
      "outputs": [
        {
          "output_type": "execute_result",
          "data": {
            "text/html": [
              "<div>\n",
              "<style scoped>\n",
              "    .dataframe tbody tr th:only-of-type {\n",
              "        vertical-align: middle;\n",
              "    }\n",
              "\n",
              "    .dataframe tbody tr th {\n",
              "        vertical-align: top;\n",
              "    }\n",
              "\n",
              "    .dataframe thead th {\n",
              "        text-align: right;\n",
              "    }\n",
              "</style>\n",
              "<table border=\"1\" class=\"dataframe\">\n",
              "  <thead>\n",
              "    <tr style=\"text-align: right;\">\n",
              "      <th></th>\n",
              "      <th>ID_Patient_Care_Situation</th>\n",
              "      <th>Diagnosed_Condition</th>\n",
              "      <th>Patient_ID</th>\n",
              "      <th>Patient_Age</th>\n",
              "      <th>Patient_Body_Mass_Index</th>\n",
              "      <th>Patient_Smoker</th>\n",
              "      <th>Patient_Rural_Urban</th>\n",
              "      <th>Patient_mental_condition</th>\n",
              "      <th>A</th>\n",
              "      <th>B</th>\n",
              "      <th>C</th>\n",
              "      <th>D</th>\n",
              "      <th>E</th>\n",
              "      <th>F</th>\n",
              "      <th>Z</th>\n",
              "      <th>Number_of_prev_cond</th>\n",
              "      <th>DX1</th>\n",
              "      <th>DX2</th>\n",
              "      <th>DX3</th>\n",
              "      <th>DX4</th>\n",
              "      <th>DX5</th>\n",
              "      <th>DX6</th>\n",
              "    </tr>\n",
              "  </thead>\n",
              "  <tbody>\n",
              "    <tr>\n",
              "      <th>3652</th>\n",
              "      <td>32215</td>\n",
              "      <td>1</td>\n",
              "      <td>11894</td>\n",
              "      <td>22</td>\n",
              "      <td>29.033409</td>\n",
              "      <td>NO</td>\n",
              "      <td>RURAL</td>\n",
              "      <td>Stable</td>\n",
              "      <td>1.0</td>\n",
              "      <td>0.0</td>\n",
              "      <td>0.0</td>\n",
              "      <td>0.0</td>\n",
              "      <td>0.0</td>\n",
              "      <td>0.0</td>\n",
              "      <td>0.0</td>\n",
              "      <td>1.0</td>\n",
              "      <td>1</td>\n",
              "      <td>1</td>\n",
              "      <td>0</td>\n",
              "      <td>0</td>\n",
              "      <td>0</td>\n",
              "      <td>0</td>\n",
              "    </tr>\n",
              "    <tr>\n",
              "      <th>13452</th>\n",
              "      <td>25391</td>\n",
              "      <td>20</td>\n",
              "      <td>1096</td>\n",
              "      <td>1</td>\n",
              "      <td>19.195376</td>\n",
              "      <td>NO</td>\n",
              "      <td>RURAL</td>\n",
              "      <td>Stable</td>\n",
              "      <td>1.0</td>\n",
              "      <td>1.0</td>\n",
              "      <td>0.0</td>\n",
              "      <td>0.0</td>\n",
              "      <td>1.0</td>\n",
              "      <td>0.0</td>\n",
              "      <td>0.0</td>\n",
              "      <td>3.0</td>\n",
              "      <td>0</td>\n",
              "      <td>1</td>\n",
              "      <td>0</td>\n",
              "      <td>0</td>\n",
              "      <td>0</td>\n",
              "      <td>0</td>\n",
              "    </tr>\n",
              "    <tr>\n",
              "      <th>8804</th>\n",
              "      <td>2542</td>\n",
              "      <td>24</td>\n",
              "      <td>2689</td>\n",
              "      <td>42</td>\n",
              "      <td>26.581994</td>\n",
              "      <td>YES</td>\n",
              "      <td>URBAN</td>\n",
              "      <td>Stable</td>\n",
              "      <td>1.0</td>\n",
              "      <td>0.0</td>\n",
              "      <td>1.0</td>\n",
              "      <td>0.0</td>\n",
              "      <td>0.0</td>\n",
              "      <td>0.0</td>\n",
              "      <td>0.0</td>\n",
              "      <td>2.0</td>\n",
              "      <td>1</td>\n",
              "      <td>1</td>\n",
              "      <td>0</td>\n",
              "      <td>1</td>\n",
              "      <td>0</td>\n",
              "      <td>0</td>\n",
              "    </tr>\n",
              "    <tr>\n",
              "      <th>4842</th>\n",
              "      <td>10691</td>\n",
              "      <td>4</td>\n",
              "      <td>4670</td>\n",
              "      <td>55</td>\n",
              "      <td>29.730528</td>\n",
              "      <td>NO</td>\n",
              "      <td>URBAN</td>\n",
              "      <td>Stable</td>\n",
              "      <td>0.0</td>\n",
              "      <td>0.0</td>\n",
              "      <td>0.0</td>\n",
              "      <td>0.0</td>\n",
              "      <td>1.0</td>\n",
              "      <td>1.0</td>\n",
              "      <td>0.0</td>\n",
              "      <td>2.0</td>\n",
              "      <td>0</td>\n",
              "      <td>0</td>\n",
              "      <td>0</td>\n",
              "      <td>0</td>\n",
              "      <td>0</td>\n",
              "      <td>1</td>\n",
              "    </tr>\n",
              "    <tr>\n",
              "      <th>23083</th>\n",
              "      <td>1799</td>\n",
              "      <td>50</td>\n",
              "      <td>5322</td>\n",
              "      <td>52</td>\n",
              "      <td>18.827974</td>\n",
              "      <td>NO</td>\n",
              "      <td>RURAL</td>\n",
              "      <td>Stable</td>\n",
              "      <td>1.0</td>\n",
              "      <td>1.0</td>\n",
              "      <td>0.0</td>\n",
              "      <td>0.0</td>\n",
              "      <td>0.0</td>\n",
              "      <td>1.0</td>\n",
              "      <td>0.0</td>\n",
              "      <td>3.0</td>\n",
              "      <td>0</td>\n",
              "      <td>0</td>\n",
              "      <td>0</td>\n",
              "      <td>1</td>\n",
              "      <td>0</td>\n",
              "      <td>0</td>\n",
              "    </tr>\n",
              "  </tbody>\n",
              "</table>\n",
              "</div>"
            ],
            "text/plain": [
              "       ID_Patient_Care_Situation  Diagnosed_Condition  ...  DX5  DX6\n",
              "3652                       32215                    1  ...    0    0\n",
              "13452                      25391                   20  ...    0    0\n",
              "8804                        2542                   24  ...    0    0\n",
              "4842                       10691                    4  ...    0    1\n",
              "23083                       1799                   50  ...    0    0\n",
              "\n",
              "[5 rows x 22 columns]"
            ]
          },
          "metadata": {
            "tags": []
          },
          "execution_count": 48
        }
      ]
    },
    {
      "cell_type": "code",
      "metadata": {
        "colab": {
          "base_uri": "https://localhost:8080/"
        },
        "id": "IHblEgoMAGj5",
        "outputId": "57d49a36-000d-4362-cbf6-6ddaad336f92"
      },
      "source": [
        "test_new_data.Patient_Smoker.value_counts()"
      ],
      "execution_count": 49,
      "outputs": [
        {
          "output_type": "execute_result",
          "data": {
            "text/plain": [
              "NO            2644\n",
              "YES           1975\n",
              "Cannot say       1\n",
              "Name: Patient_Smoker, dtype: int64"
            ]
          },
          "metadata": {
            "tags": []
          },
          "execution_count": 49
        }
      ]
    },
    {
      "cell_type": "code",
      "metadata": {
        "id": "Mn2K5nO8UPkY"
      },
      "source": [
        "test_new_data.Patient_Smoker[test_new_data['Patient_Smoker'] == \"Cannot say\"] = 'NO'    # we already know 'NO' is the mode so directly changing the values 'Cannot say' to 'NO'"
      ],
      "execution_count": 50,
      "outputs": []
    },
    {
      "cell_type": "markdown",
      "metadata": {
        "id": "RO6ObqU6Ai6P"
      },
      "source": [
        "The column 'Patient_mental_condition' has only one category 'stable'. So we can drop this column as for every observation the entry here is 'stable'."
      ]
    },
    {
      "cell_type": "code",
      "metadata": {
        "id": "WZXrNPm-AfW7"
      },
      "source": [
        "test_new_data.drop('Patient_mental_condition', axis = 1, inplace=True)"
      ],
      "execution_count": 51,
      "outputs": []
    },
    {
      "cell_type": "markdown",
      "metadata": {
        "id": "wXyDrpCmAoF6"
      },
      "source": [
        "Now let's convert the categorical column to numerical using get_dummies() function of pandas (i.e. one hot encoding)."
      ]
    },
    {
      "cell_type": "code",
      "metadata": {
        "id": "Sjsoy9zVAlyC"
      },
      "source": [
        "test_new_data = pd.get_dummies(test_new_data, columns=['Patient_Smoker', 'Patient_Rural_Urban'])"
      ],
      "execution_count": 52,
      "outputs": []
    },
    {
      "cell_type": "code",
      "metadata": {
        "colab": {
          "base_uri": "https://localhost:8080/",
          "height": 215
        },
        "id": "gya8xbU_A7w3",
        "outputId": "ce08614c-9bab-4ef6-de83-d0caf9976302"
      },
      "source": [
        "test_new_data.head()"
      ],
      "execution_count": 53,
      "outputs": [
        {
          "output_type": "execute_result",
          "data": {
            "text/html": [
              "<div>\n",
              "<style scoped>\n",
              "    .dataframe tbody tr th:only-of-type {\n",
              "        vertical-align: middle;\n",
              "    }\n",
              "\n",
              "    .dataframe tbody tr th {\n",
              "        vertical-align: top;\n",
              "    }\n",
              "\n",
              "    .dataframe thead th {\n",
              "        text-align: right;\n",
              "    }\n",
              "</style>\n",
              "<table border=\"1\" class=\"dataframe\">\n",
              "  <thead>\n",
              "    <tr style=\"text-align: right;\">\n",
              "      <th></th>\n",
              "      <th>ID_Patient_Care_Situation</th>\n",
              "      <th>Diagnosed_Condition</th>\n",
              "      <th>Patient_ID</th>\n",
              "      <th>Patient_Age</th>\n",
              "      <th>Patient_Body_Mass_Index</th>\n",
              "      <th>A</th>\n",
              "      <th>B</th>\n",
              "      <th>C</th>\n",
              "      <th>D</th>\n",
              "      <th>E</th>\n",
              "      <th>F</th>\n",
              "      <th>Z</th>\n",
              "      <th>Number_of_prev_cond</th>\n",
              "      <th>DX1</th>\n",
              "      <th>DX2</th>\n",
              "      <th>DX3</th>\n",
              "      <th>DX4</th>\n",
              "      <th>DX5</th>\n",
              "      <th>DX6</th>\n",
              "      <th>Patient_Smoker_NO</th>\n",
              "      <th>Patient_Smoker_YES</th>\n",
              "      <th>Patient_Rural_Urban_RURAL</th>\n",
              "      <th>Patient_Rural_Urban_URBAN</th>\n",
              "    </tr>\n",
              "  </thead>\n",
              "  <tbody>\n",
              "    <tr>\n",
              "      <th>3652</th>\n",
              "      <td>32215</td>\n",
              "      <td>1</td>\n",
              "      <td>11894</td>\n",
              "      <td>22</td>\n",
              "      <td>29.033409</td>\n",
              "      <td>1.0</td>\n",
              "      <td>0.0</td>\n",
              "      <td>0.0</td>\n",
              "      <td>0.0</td>\n",
              "      <td>0.0</td>\n",
              "      <td>0.0</td>\n",
              "      <td>0.0</td>\n",
              "      <td>1.0</td>\n",
              "      <td>1</td>\n",
              "      <td>1</td>\n",
              "      <td>0</td>\n",
              "      <td>0</td>\n",
              "      <td>0</td>\n",
              "      <td>0</td>\n",
              "      <td>1</td>\n",
              "      <td>0</td>\n",
              "      <td>1</td>\n",
              "      <td>0</td>\n",
              "    </tr>\n",
              "    <tr>\n",
              "      <th>13452</th>\n",
              "      <td>25391</td>\n",
              "      <td>20</td>\n",
              "      <td>1096</td>\n",
              "      <td>1</td>\n",
              "      <td>19.195376</td>\n",
              "      <td>1.0</td>\n",
              "      <td>1.0</td>\n",
              "      <td>0.0</td>\n",
              "      <td>0.0</td>\n",
              "      <td>1.0</td>\n",
              "      <td>0.0</td>\n",
              "      <td>0.0</td>\n",
              "      <td>3.0</td>\n",
              "      <td>0</td>\n",
              "      <td>1</td>\n",
              "      <td>0</td>\n",
              "      <td>0</td>\n",
              "      <td>0</td>\n",
              "      <td>0</td>\n",
              "      <td>1</td>\n",
              "      <td>0</td>\n",
              "      <td>1</td>\n",
              "      <td>0</td>\n",
              "    </tr>\n",
              "    <tr>\n",
              "      <th>8804</th>\n",
              "      <td>2542</td>\n",
              "      <td>24</td>\n",
              "      <td>2689</td>\n",
              "      <td>42</td>\n",
              "      <td>26.581994</td>\n",
              "      <td>1.0</td>\n",
              "      <td>0.0</td>\n",
              "      <td>1.0</td>\n",
              "      <td>0.0</td>\n",
              "      <td>0.0</td>\n",
              "      <td>0.0</td>\n",
              "      <td>0.0</td>\n",
              "      <td>2.0</td>\n",
              "      <td>1</td>\n",
              "      <td>1</td>\n",
              "      <td>0</td>\n",
              "      <td>1</td>\n",
              "      <td>0</td>\n",
              "      <td>0</td>\n",
              "      <td>0</td>\n",
              "      <td>1</td>\n",
              "      <td>0</td>\n",
              "      <td>1</td>\n",
              "    </tr>\n",
              "    <tr>\n",
              "      <th>4842</th>\n",
              "      <td>10691</td>\n",
              "      <td>4</td>\n",
              "      <td>4670</td>\n",
              "      <td>55</td>\n",
              "      <td>29.730528</td>\n",
              "      <td>0.0</td>\n",
              "      <td>0.0</td>\n",
              "      <td>0.0</td>\n",
              "      <td>0.0</td>\n",
              "      <td>1.0</td>\n",
              "      <td>1.0</td>\n",
              "      <td>0.0</td>\n",
              "      <td>2.0</td>\n",
              "      <td>0</td>\n",
              "      <td>0</td>\n",
              "      <td>0</td>\n",
              "      <td>0</td>\n",
              "      <td>0</td>\n",
              "      <td>1</td>\n",
              "      <td>1</td>\n",
              "      <td>0</td>\n",
              "      <td>0</td>\n",
              "      <td>1</td>\n",
              "    </tr>\n",
              "    <tr>\n",
              "      <th>23083</th>\n",
              "      <td>1799</td>\n",
              "      <td>50</td>\n",
              "      <td>5322</td>\n",
              "      <td>52</td>\n",
              "      <td>18.827974</td>\n",
              "      <td>1.0</td>\n",
              "      <td>1.0</td>\n",
              "      <td>0.0</td>\n",
              "      <td>0.0</td>\n",
              "      <td>0.0</td>\n",
              "      <td>1.0</td>\n",
              "      <td>0.0</td>\n",
              "      <td>3.0</td>\n",
              "      <td>0</td>\n",
              "      <td>0</td>\n",
              "      <td>0</td>\n",
              "      <td>1</td>\n",
              "      <td>0</td>\n",
              "      <td>0</td>\n",
              "      <td>1</td>\n",
              "      <td>0</td>\n",
              "      <td>1</td>\n",
              "      <td>0</td>\n",
              "    </tr>\n",
              "  </tbody>\n",
              "</table>\n",
              "</div>"
            ],
            "text/plain": [
              "       ID_Patient_Care_Situation  ...  Patient_Rural_Urban_URBAN\n",
              "3652                       32215  ...                          0\n",
              "13452                      25391  ...                          0\n",
              "8804                        2542  ...                          1\n",
              "4842                       10691  ...                          1\n",
              "23083                       1799  ...                          0\n",
              "\n",
              "[5 rows x 23 columns]"
            ]
          },
          "metadata": {
            "tags": []
          },
          "execution_count": 53
        }
      ]
    },
    {
      "cell_type": "code",
      "metadata": {
        "colab": {
          "base_uri": "https://localhost:8080/"
        },
        "id": "JaziRrQVA-jT",
        "outputId": "9a56d8d8-6732-448d-bba6-9030510d823d"
      },
      "source": [
        "test_new_data.info()"
      ],
      "execution_count": 54,
      "outputs": [
        {
          "output_type": "stream",
          "text": [
            "<class 'pandas.core.frame.DataFrame'>\n",
            "Int64Index: 4620 entries, 3652 to 16117\n",
            "Data columns (total 23 columns):\n",
            " #   Column                     Non-Null Count  Dtype  \n",
            "---  ------                     --------------  -----  \n",
            " 0   ID_Patient_Care_Situation  4620 non-null   int64  \n",
            " 1   Diagnosed_Condition        4620 non-null   int64  \n",
            " 2   Patient_ID                 4620 non-null   int64  \n",
            " 3   Patient_Age                4620 non-null   int64  \n",
            " 4   Patient_Body_Mass_Index    4620 non-null   float64\n",
            " 5   A                          4620 non-null   float64\n",
            " 6   B                          4620 non-null   float64\n",
            " 7   C                          4620 non-null   float64\n",
            " 8   D                          4620 non-null   float64\n",
            " 9   E                          4620 non-null   float64\n",
            " 10  F                          4620 non-null   float64\n",
            " 11  Z                          4620 non-null   float64\n",
            " 12  Number_of_prev_cond        4620 non-null   float64\n",
            " 13  DX1                        4620 non-null   int64  \n",
            " 14  DX2                        4620 non-null   int64  \n",
            " 15  DX3                        4620 non-null   int64  \n",
            " 16  DX4                        4620 non-null   int64  \n",
            " 17  DX5                        4620 non-null   int64  \n",
            " 18  DX6                        4620 non-null   int64  \n",
            " 19  Patient_Smoker_NO          4620 non-null   uint8  \n",
            " 20  Patient_Smoker_YES         4620 non-null   uint8  \n",
            " 21  Patient_Rural_Urban_RURAL  4620 non-null   uint8  \n",
            " 22  Patient_Rural_Urban_URBAN  4620 non-null   uint8  \n",
            "dtypes: float64(9), int64(10), uint8(4)\n",
            "memory usage: 739.9 KB\n"
          ],
          "name": "stdout"
        }
      ]
    },
    {
      "cell_type": "markdown",
      "metadata": {
        "id": "6vq9tDkbBDdx"
      },
      "source": [
        "As you can see there are no missing data now and all the data are of numerical type.\n",
        "\n",
        "The column - 'ID_Patient_Care_Situation' is an ID. Here we can remove this column too as we did in training dataset."
      ]
    },
    {
      "cell_type": "code",
      "metadata": {
        "id": "WZyfjhDuBAvk"
      },
      "source": [
        "test_new_data.drop(['ID_Patient_Care_Situation'], axis =1, inplace=True)"
      ],
      "execution_count": 55,
      "outputs": []
    },
    {
      "cell_type": "code",
      "metadata": {
        "colab": {
          "base_uri": "https://localhost:8080/"
        },
        "id": "EjC5UjtRFihV",
        "outputId": "cc809ce3-8e23-4ec5-d606-53f67a0587f9"
      },
      "source": [
        "test_new_data.info()"
      ],
      "execution_count": 56,
      "outputs": [
        {
          "output_type": "stream",
          "text": [
            "<class 'pandas.core.frame.DataFrame'>\n",
            "Int64Index: 4620 entries, 3652 to 16117\n",
            "Data columns (total 22 columns):\n",
            " #   Column                     Non-Null Count  Dtype  \n",
            "---  ------                     --------------  -----  \n",
            " 0   Diagnosed_Condition        4620 non-null   int64  \n",
            " 1   Patient_ID                 4620 non-null   int64  \n",
            " 2   Patient_Age                4620 non-null   int64  \n",
            " 3   Patient_Body_Mass_Index    4620 non-null   float64\n",
            " 4   A                          4620 non-null   float64\n",
            " 5   B                          4620 non-null   float64\n",
            " 6   C                          4620 non-null   float64\n",
            " 7   D                          4620 non-null   float64\n",
            " 8   E                          4620 non-null   float64\n",
            " 9   F                          4620 non-null   float64\n",
            " 10  Z                          4620 non-null   float64\n",
            " 11  Number_of_prev_cond        4620 non-null   float64\n",
            " 12  DX1                        4620 non-null   int64  \n",
            " 13  DX2                        4620 non-null   int64  \n",
            " 14  DX3                        4620 non-null   int64  \n",
            " 15  DX4                        4620 non-null   int64  \n",
            " 16  DX5                        4620 non-null   int64  \n",
            " 17  DX6                        4620 non-null   int64  \n",
            " 18  Patient_Smoker_NO          4620 non-null   uint8  \n",
            " 19  Patient_Smoker_YES         4620 non-null   uint8  \n",
            " 20  Patient_Rural_Urban_RURAL  4620 non-null   uint8  \n",
            " 21  Patient_Rural_Urban_URBAN  4620 non-null   uint8  \n",
            "dtypes: float64(9), int64(9), uint8(4)\n",
            "memory usage: 703.8 KB\n"
          ],
          "name": "stdout"
        }
      ]
    },
    {
      "cell_type": "markdown",
      "metadata": {
        "id": "zZQWNZ8giFab"
      },
      "source": [
        "If you notice the training data i.e. 'data' dataframe, there is not any column named 'Patient_Smoker_Cannot say' while test data i.e. test_new_data has. We need to drop this column form test set."
      ]
    },
    {
      "cell_type": "markdown",
      "metadata": {
        "id": "dae-IqqflAr6"
      },
      "source": [
        "### **Model Building**\n",
        "\n",
        "We have seen from Exploratory Data Analysis that this is a classification problem as the target column 'Survived_1_year' has two values 0 - means the patient did not survive after one year of treatment, 1 - means the patient survived after one year of treatment. So we can use classification models for this problem. Some of the classification models are - Logistic Regression, Random Forest Classifier, Decision Tree Classifier, etc. However, we have used two of them - Logistic Regression and Random Forest Classifier."
      ]
    },
    {
      "cell_type": "markdown",
      "metadata": {
        "id": "aD4-0REovxrJ"
      },
      "source": [
        "### 1. Logistic Regression Model"
      ]
    },
    {
      "cell_type": "code",
      "metadata": {
        "colab": {
          "base_uri": "https://localhost:8080/"
        },
        "id": "KetD4NJVRtm5",
        "outputId": "81a4b9d2-a897-4f16-dcdd-f82d2cde693b"
      },
      "source": [
        "model = LogisticRegression(max_iter = 1000)     # The maximum number of iterations will be 1000. This will help you prevent from convergence warning.\n",
        "model.fit(X_train,y_train)"
      ],
      "execution_count": 57,
      "outputs": [
        {
          "output_type": "execute_result",
          "data": {
            "text/plain": [
              "LogisticRegression(C=1.0, class_weight=None, dual=False, fit_intercept=True,\n",
              "                   intercept_scaling=1, l1_ratio=None, max_iter=1000,\n",
              "                   multi_class='auto', n_jobs=None, penalty='l2',\n",
              "                   random_state=None, solver='lbfgs', tol=0.0001, verbose=0,\n",
              "                   warm_start=False)"
            ]
          },
          "metadata": {
            "tags": []
          },
          "execution_count": 57
        }
      ]
    },
    {
      "cell_type": "markdown",
      "metadata": {
        "id": "sj_50jXuOGeJ"
      },
      "source": [
        "### Model Evaluation"
      ]
    },
    {
      "cell_type": "code",
      "metadata": {
        "colab": {
          "base_uri": "https://localhost:8080/"
        },
        "id": "ColXRvVTQDaO",
        "outputId": "3b8ec3f0-65dd-49af-b0f2-5bc4357ef2bf"
      },
      "source": [
        "f1_score(y_test, model.predict(test_new_data))"
      ],
      "execution_count": 58,
      "outputs": [
        {
          "output_type": "execute_result",
          "data": {
            "text/plain": [
              "0.7865745945077885"
            ]
          },
          "metadata": {
            "tags": []
          },
          "execution_count": 58
        }
      ]
    },
    {
      "cell_type": "markdown",
      "metadata": {
        "id": "Mhz9mf0HcuKK"
      },
      "source": [
        "### 2. Random Forest"
      ]
    },
    {
      "cell_type": "code",
      "metadata": {
        "id": "MJicCfODcOXf"
      },
      "source": [
        "from sklearn.feature_selection import SelectFromModel\n",
        "from sklearn.metrics import accuracy_score, f1_score\n",
        "from sklearn.ensemble import RandomForestClassifier"
      ],
      "execution_count": 59,
      "outputs": []
    },
    {
      "cell_type": "code",
      "metadata": {
        "colab": {
          "base_uri": "https://localhost:8080/"
        },
        "id": "GntBm9iDcWUK",
        "outputId": "b459a80b-894c-4757-ceb6-ab911f0e3905"
      },
      "source": [
        "forest = RandomForestClassifier(random_state=1, n_estimators=1000, max_depth=5)\n",
        " \n",
        "forest.fit(X_train, y_train)"
      ],
      "execution_count": 60,
      "outputs": [
        {
          "output_type": "execute_result",
          "data": {
            "text/plain": [
              "RandomForestClassifier(bootstrap=True, ccp_alpha=0.0, class_weight=None,\n",
              "                       criterion='gini', max_depth=5, max_features='auto',\n",
              "                       max_leaf_nodes=None, max_samples=None,\n",
              "                       min_impurity_decrease=0.0, min_impurity_split=None,\n",
              "                       min_samples_leaf=1, min_samples_split=2,\n",
              "                       min_weight_fraction_leaf=0.0, n_estimators=1000,\n",
              "                       n_jobs=None, oob_score=False, random_state=1, verbose=0,\n",
              "                       warm_start=False)"
            ]
          },
          "metadata": {
            "tags": []
          },
          "execution_count": 60
        }
      ]
    },
    {
      "cell_type": "markdown",
      "metadata": {
        "id": "eMn7er-qUtMg"
      },
      "source": [
        "### Model Evaluation"
      ]
    },
    {
      "cell_type": "code",
      "metadata": {
        "colab": {
          "base_uri": "https://localhost:8080/"
        },
        "id": "-8fYEyiZUwte",
        "outputId": "a534b47d-5525-4049-a845-401e22d99ddc"
      },
      "source": [
        "f1_score(y_test, forest.predict(test_new_data))"
      ],
      "execution_count": 61,
      "outputs": [
        {
          "output_type": "execute_result",
          "data": {
            "text/plain": [
              "0.8242056522433339"
            ]
          },
          "metadata": {
            "tags": []
          },
          "execution_count": 61
        }
      ]
    },
    {
      "cell_type": "markdown",
      "metadata": {
        "id": "t3SKPXc5cHsM"
      },
      "source": [
        "### 3. Random Forest and Boruta"
      ]
    },
    {
      "cell_type": "markdown",
      "metadata": {
        "id": "43DOz7pTTV31"
      },
      "source": [
        "Boruta is an all-relevant feature selection method. Unlike other techniques that select small set of features to minimize the error, Boruta tries to capture all the important and interesting features you might have in your dataset with respect to the target variable.\n",
        "\n",
        "Boruta by default uses random forest although it works with other algorithms like LightGBM, XGBoost etc.\n",
        "\n",
        "You can install Boruta with the command\n",
        "\n",
        "pip install Boruta"
      ]
    },
    {
      "cell_type": "code",
      "metadata": {
        "colab": {
          "base_uri": "https://localhost:8080/"
        },
        "id": "FtMJXkPWb66M",
        "outputId": "58de03a6-4568-4c8d-9a33-4cbacc59d365"
      },
      "source": [
        "!pip install Boruta"
      ],
      "execution_count": 62,
      "outputs": [
        {
          "output_type": "stream",
          "text": [
            "Collecting Boruta\n",
            "\u001b[?25l  Downloading https://files.pythonhosted.org/packages/b2/11/583f4eac99d802c79af9217e1eff56027742a69e6c866b295cce6a5a8fc2/Boruta-0.3-py3-none-any.whl (56kB)\n",
            "\r\u001b[K     |█████▉                          | 10kB 16.1MB/s eta 0:00:01\r\u001b[K     |███████████▋                    | 20kB 9.7MB/s eta 0:00:01\r\u001b[K     |█████████████████▍              | 30kB 8.0MB/s eta 0:00:01\r\u001b[K     |███████████████████████▏        | 40kB 7.0MB/s eta 0:00:01\r\u001b[K     |█████████████████████████████   | 51kB 4.2MB/s eta 0:00:01\r\u001b[K     |████████████████████████████████| 61kB 3.0MB/s \n",
            "\u001b[?25hRequirement already satisfied: scikit-learn>=0.17.1 in /usr/local/lib/python3.6/dist-packages (from Boruta) (0.22.2.post1)\n",
            "Requirement already satisfied: numpy>=1.10.4 in /usr/local/lib/python3.6/dist-packages (from Boruta) (1.18.5)\n",
            "Requirement already satisfied: scipy>=0.17.0 in /usr/local/lib/python3.6/dist-packages (from Boruta) (1.4.1)\n",
            "Requirement already satisfied: joblib>=0.11 in /usr/local/lib/python3.6/dist-packages (from scikit-learn>=0.17.1->Boruta) (0.17.0)\n",
            "Installing collected packages: Boruta\n",
            "Successfully installed Boruta-0.3\n"
          ],
          "name": "stdout"
        }
      ]
    },
    {
      "cell_type": "code",
      "metadata": {
        "id": "asX2mOdTciEJ"
      },
      "source": [
        "from boruta import BorutaPy"
      ],
      "execution_count": 63,
      "outputs": []
    },
    {
      "cell_type": "code",
      "metadata": {
        "colab": {
          "base_uri": "https://localhost:8080/"
        },
        "id": "MUrj1AkQc3a-",
        "outputId": "b9c327b1-2edc-48aa-a607-a8d532a84a84"
      },
      "source": [
        "rfc = RandomForestClassifier(random_state=1, n_estimators=1000, max_depth=5)\n",
        "boruta_selector = BorutaPy(rfc, n_estimators='auto', verbose=2, random_state=1)   # initialize the boruta selector\n",
        "boruta_selector.fit(np.array(X_train), np.array(y_train))       # fitting the boruta selector to get all relavent features. \n",
        "# NOTE: BorutaPy accepts numpy arrays only."
      ],
      "execution_count": 64,
      "outputs": [
        {
          "output_type": "stream",
          "text": [
            "Iteration: \t1 / 100\n",
            "Confirmed: \t0\n",
            "Tentative: \t22\n",
            "Rejected: \t0\n",
            "Iteration: \t2 / 100\n",
            "Confirmed: \t0\n",
            "Tentative: \t22\n",
            "Rejected: \t0\n",
            "Iteration: \t3 / 100\n",
            "Confirmed: \t0\n",
            "Tentative: \t22\n",
            "Rejected: \t0\n",
            "Iteration: \t4 / 100\n",
            "Confirmed: \t0\n",
            "Tentative: \t22\n",
            "Rejected: \t0\n",
            "Iteration: \t5 / 100\n",
            "Confirmed: \t0\n",
            "Tentative: \t22\n",
            "Rejected: \t0\n",
            "Iteration: \t6 / 100\n",
            "Confirmed: \t0\n",
            "Tentative: \t22\n",
            "Rejected: \t0\n",
            "Iteration: \t7 / 100\n",
            "Confirmed: \t0\n",
            "Tentative: \t22\n",
            "Rejected: \t0\n",
            "Iteration: \t8 / 100\n",
            "Confirmed: \t17\n",
            "Tentative: \t2\n",
            "Rejected: \t3\n",
            "Iteration: \t9 / 100\n",
            "Confirmed: \t17\n",
            "Tentative: \t2\n",
            "Rejected: \t3\n",
            "Iteration: \t10 / 100\n",
            "Confirmed: \t17\n",
            "Tentative: \t2\n",
            "Rejected: \t3\n",
            "Iteration: \t11 / 100\n",
            "Confirmed: \t17\n",
            "Tentative: \t2\n",
            "Rejected: \t3\n",
            "Iteration: \t12 / 100\n",
            "Confirmed: \t17\n",
            "Tentative: \t2\n",
            "Rejected: \t3\n",
            "Iteration: \t13 / 100\n",
            "Confirmed: \t17\n",
            "Tentative: \t2\n",
            "Rejected: \t3\n",
            "Iteration: \t14 / 100\n",
            "Confirmed: \t17\n",
            "Tentative: \t2\n",
            "Rejected: \t3\n",
            "Iteration: \t15 / 100\n",
            "Confirmed: \t17\n",
            "Tentative: \t2\n",
            "Rejected: \t3\n",
            "Iteration: \t16 / 100\n",
            "Confirmed: \t17\n",
            "Tentative: \t2\n",
            "Rejected: \t3\n",
            "Iteration: \t17 / 100\n",
            "Confirmed: \t17\n",
            "Tentative: \t2\n",
            "Rejected: \t3\n",
            "Iteration: \t18 / 100\n",
            "Confirmed: \t17\n",
            "Tentative: \t2\n",
            "Rejected: \t3\n",
            "Iteration: \t19 / 100\n",
            "Confirmed: \t17\n",
            "Tentative: \t2\n",
            "Rejected: \t3\n",
            "Iteration: \t20 / 100\n",
            "Confirmed: \t17\n",
            "Tentative: \t2\n",
            "Rejected: \t3\n",
            "Iteration: \t21 / 100\n",
            "Confirmed: \t17\n",
            "Tentative: \t2\n",
            "Rejected: \t3\n",
            "Iteration: \t22 / 100\n",
            "Confirmed: \t17\n",
            "Tentative: \t2\n",
            "Rejected: \t3\n",
            "Iteration: \t23 / 100\n",
            "Confirmed: \t17\n",
            "Tentative: \t2\n",
            "Rejected: \t3\n",
            "Iteration: \t24 / 100\n",
            "Confirmed: \t17\n",
            "Tentative: \t2\n",
            "Rejected: \t3\n",
            "Iteration: \t25 / 100\n",
            "Confirmed: \t17\n",
            "Tentative: \t2\n",
            "Rejected: \t3\n",
            "Iteration: \t26 / 100\n",
            "Confirmed: \t17\n",
            "Tentative: \t2\n",
            "Rejected: \t3\n",
            "Iteration: \t27 / 100\n",
            "Confirmed: \t17\n",
            "Tentative: \t2\n",
            "Rejected: \t3\n",
            "Iteration: \t28 / 100\n",
            "Confirmed: \t17\n",
            "Tentative: \t2\n",
            "Rejected: \t3\n",
            "Iteration: \t29 / 100\n",
            "Confirmed: \t17\n",
            "Tentative: \t2\n",
            "Rejected: \t3\n",
            "Iteration: \t30 / 100\n",
            "Confirmed: \t17\n",
            "Tentative: \t2\n",
            "Rejected: \t3\n",
            "Iteration: \t31 / 100\n",
            "Confirmed: \t17\n",
            "Tentative: \t2\n",
            "Rejected: \t3\n",
            "Iteration: \t32 / 100\n",
            "Confirmed: \t18\n",
            "Tentative: \t1\n",
            "Rejected: \t3\n",
            "Iteration: \t33 / 100\n",
            "Confirmed: \t18\n",
            "Tentative: \t1\n",
            "Rejected: \t3\n",
            "Iteration: \t34 / 100\n",
            "Confirmed: \t18\n",
            "Tentative: \t1\n",
            "Rejected: \t3\n",
            "Iteration: \t35 / 100\n",
            "Confirmed: \t18\n",
            "Tentative: \t1\n",
            "Rejected: \t3\n",
            "Iteration: \t36 / 100\n",
            "Confirmed: \t18\n",
            "Tentative: \t1\n",
            "Rejected: \t3\n",
            "Iteration: \t37 / 100\n",
            "Confirmed: \t18\n",
            "Tentative: \t1\n",
            "Rejected: \t3\n",
            "Iteration: \t38 / 100\n",
            "Confirmed: \t18\n",
            "Tentative: \t1\n",
            "Rejected: \t3\n",
            "Iteration: \t39 / 100\n",
            "Confirmed: \t18\n",
            "Tentative: \t1\n",
            "Rejected: \t3\n",
            "Iteration: \t40 / 100\n",
            "Confirmed: \t18\n",
            "Tentative: \t1\n",
            "Rejected: \t3\n",
            "Iteration: \t41 / 100\n",
            "Confirmed: \t18\n",
            "Tentative: \t1\n",
            "Rejected: \t3\n",
            "Iteration: \t42 / 100\n",
            "Confirmed: \t18\n",
            "Tentative: \t1\n",
            "Rejected: \t3\n",
            "Iteration: \t43 / 100\n",
            "Confirmed: \t18\n",
            "Tentative: \t1\n",
            "Rejected: \t3\n",
            "Iteration: \t44 / 100\n",
            "Confirmed: \t18\n",
            "Tentative: \t1\n",
            "Rejected: \t3\n",
            "Iteration: \t45 / 100\n",
            "Confirmed: \t18\n",
            "Tentative: \t1\n",
            "Rejected: \t3\n",
            "Iteration: \t46 / 100\n",
            "Confirmed: \t18\n",
            "Tentative: \t1\n",
            "Rejected: \t3\n",
            "Iteration: \t47 / 100\n",
            "Confirmed: \t18\n",
            "Tentative: \t1\n",
            "Rejected: \t3\n",
            "Iteration: \t48 / 100\n",
            "Confirmed: \t18\n",
            "Tentative: \t1\n",
            "Rejected: \t3\n",
            "Iteration: \t49 / 100\n",
            "Confirmed: \t18\n",
            "Tentative: \t1\n",
            "Rejected: \t3\n",
            "Iteration: \t50 / 100\n",
            "Confirmed: \t18\n",
            "Tentative: \t1\n",
            "Rejected: \t3\n",
            "Iteration: \t51 / 100\n",
            "Confirmed: \t18\n",
            "Tentative: \t1\n",
            "Rejected: \t3\n",
            "Iteration: \t52 / 100\n",
            "Confirmed: \t18\n",
            "Tentative: \t1\n",
            "Rejected: \t3\n",
            "Iteration: \t53 / 100\n",
            "Confirmed: \t18\n",
            "Tentative: \t1\n",
            "Rejected: \t3\n",
            "Iteration: \t54 / 100\n",
            "Confirmed: \t18\n",
            "Tentative: \t1\n",
            "Rejected: \t3\n",
            "Iteration: \t55 / 100\n",
            "Confirmed: \t18\n",
            "Tentative: \t1\n",
            "Rejected: \t3\n",
            "Iteration: \t56 / 100\n",
            "Confirmed: \t18\n",
            "Tentative: \t1\n",
            "Rejected: \t3\n",
            "Iteration: \t57 / 100\n",
            "Confirmed: \t18\n",
            "Tentative: \t1\n",
            "Rejected: \t3\n",
            "Iteration: \t58 / 100\n",
            "Confirmed: \t18\n",
            "Tentative: \t1\n",
            "Rejected: \t3\n",
            "Iteration: \t59 / 100\n",
            "Confirmed: \t18\n",
            "Tentative: \t1\n",
            "Rejected: \t3\n",
            "Iteration: \t60 / 100\n",
            "Confirmed: \t18\n",
            "Tentative: \t1\n",
            "Rejected: \t3\n",
            "Iteration: \t61 / 100\n",
            "Confirmed: \t18\n",
            "Tentative: \t1\n",
            "Rejected: \t3\n",
            "Iteration: \t62 / 100\n",
            "Confirmed: \t18\n",
            "Tentative: \t1\n",
            "Rejected: \t3\n",
            "Iteration: \t63 / 100\n",
            "Confirmed: \t18\n",
            "Tentative: \t1\n",
            "Rejected: \t3\n",
            "Iteration: \t64 / 100\n",
            "Confirmed: \t18\n",
            "Tentative: \t1\n",
            "Rejected: \t3\n",
            "Iteration: \t65 / 100\n",
            "Confirmed: \t18\n",
            "Tentative: \t1\n",
            "Rejected: \t3\n",
            "Iteration: \t66 / 100\n",
            "Confirmed: \t18\n",
            "Tentative: \t1\n",
            "Rejected: \t3\n",
            "Iteration: \t67 / 100\n",
            "Confirmed: \t18\n",
            "Tentative: \t1\n",
            "Rejected: \t3\n",
            "Iteration: \t68 / 100\n",
            "Confirmed: \t18\n",
            "Tentative: \t1\n",
            "Rejected: \t3\n",
            "Iteration: \t69 / 100\n",
            "Confirmed: \t18\n",
            "Tentative: \t1\n",
            "Rejected: \t3\n",
            "Iteration: \t70 / 100\n",
            "Confirmed: \t18\n",
            "Tentative: \t1\n",
            "Rejected: \t3\n",
            "Iteration: \t71 / 100\n",
            "Confirmed: \t18\n",
            "Tentative: \t1\n",
            "Rejected: \t3\n",
            "Iteration: \t72 / 100\n",
            "Confirmed: \t18\n",
            "Tentative: \t1\n",
            "Rejected: \t3\n",
            "Iteration: \t73 / 100\n",
            "Confirmed: \t18\n",
            "Tentative: \t1\n",
            "Rejected: \t3\n",
            "Iteration: \t74 / 100\n",
            "Confirmed: \t18\n",
            "Tentative: \t1\n",
            "Rejected: \t3\n",
            "Iteration: \t75 / 100\n",
            "Confirmed: \t18\n",
            "Tentative: \t1\n",
            "Rejected: \t3\n",
            "Iteration: \t76 / 100\n",
            "Confirmed: \t18\n",
            "Tentative: \t1\n",
            "Rejected: \t3\n",
            "Iteration: \t77 / 100\n",
            "Confirmed: \t18\n",
            "Tentative: \t1\n",
            "Rejected: \t3\n",
            "Iteration: \t78 / 100\n",
            "Confirmed: \t18\n",
            "Tentative: \t1\n",
            "Rejected: \t3\n",
            "Iteration: \t79 / 100\n",
            "Confirmed: \t18\n",
            "Tentative: \t1\n",
            "Rejected: \t3\n",
            "Iteration: \t80 / 100\n",
            "Confirmed: \t18\n",
            "Tentative: \t1\n",
            "Rejected: \t3\n",
            "Iteration: \t81 / 100\n",
            "Confirmed: \t18\n",
            "Tentative: \t1\n",
            "Rejected: \t3\n",
            "Iteration: \t82 / 100\n",
            "Confirmed: \t18\n",
            "Tentative: \t1\n",
            "Rejected: \t3\n",
            "Iteration: \t83 / 100\n",
            "Confirmed: \t18\n",
            "Tentative: \t1\n",
            "Rejected: \t3\n",
            "Iteration: \t84 / 100\n",
            "Confirmed: \t18\n",
            "Tentative: \t1\n",
            "Rejected: \t3\n",
            "Iteration: \t85 / 100\n",
            "Confirmed: \t18\n",
            "Tentative: \t1\n",
            "Rejected: \t3\n",
            "Iteration: \t86 / 100\n",
            "Confirmed: \t18\n",
            "Tentative: \t1\n",
            "Rejected: \t3\n",
            "Iteration: \t87 / 100\n",
            "Confirmed: \t18\n",
            "Tentative: \t1\n",
            "Rejected: \t3\n",
            "Iteration: \t88 / 100\n",
            "Confirmed: \t18\n",
            "Tentative: \t1\n",
            "Rejected: \t3\n",
            "Iteration: \t89 / 100\n",
            "Confirmed: \t18\n",
            "Tentative: \t1\n",
            "Rejected: \t3\n",
            "Iteration: \t90 / 100\n",
            "Confirmed: \t18\n",
            "Tentative: \t1\n",
            "Rejected: \t3\n",
            "Iteration: \t91 / 100\n",
            "Confirmed: \t18\n",
            "Tentative: \t1\n",
            "Rejected: \t3\n",
            "Iteration: \t92 / 100\n",
            "Confirmed: \t18\n",
            "Tentative: \t1\n",
            "Rejected: \t3\n",
            "Iteration: \t93 / 100\n",
            "Confirmed: \t18\n",
            "Tentative: \t1\n",
            "Rejected: \t3\n",
            "Iteration: \t94 / 100\n",
            "Confirmed: \t18\n",
            "Tentative: \t1\n",
            "Rejected: \t3\n",
            "Iteration: \t95 / 100\n",
            "Confirmed: \t18\n",
            "Tentative: \t1\n",
            "Rejected: \t3\n",
            "Iteration: \t96 / 100\n",
            "Confirmed: \t18\n",
            "Tentative: \t1\n",
            "Rejected: \t3\n",
            "Iteration: \t97 / 100\n",
            "Confirmed: \t18\n",
            "Tentative: \t1\n",
            "Rejected: \t3\n",
            "Iteration: \t98 / 100\n",
            "Confirmed: \t18\n",
            "Tentative: \t1\n",
            "Rejected: \t3\n",
            "Iteration: \t99 / 100\n",
            "Confirmed: \t18\n",
            "Tentative: \t1\n",
            "Rejected: \t3\n",
            "\n",
            "\n",
            "BorutaPy finished running.\n",
            "\n",
            "Iteration: \t100 / 100\n",
            "Confirmed: \t18\n",
            "Tentative: \t0\n",
            "Rejected: \t3\n"
          ],
          "name": "stdout"
        },
        {
          "output_type": "execute_result",
          "data": {
            "text/plain": [
              "BorutaPy(alpha=0.05,\n",
              "         estimator=RandomForestClassifier(bootstrap=True, ccp_alpha=0.0,\n",
              "                                          class_weight=None, criterion='gini',\n",
              "                                          max_depth=5, max_features='auto',\n",
              "                                          max_leaf_nodes=None, max_samples=None,\n",
              "                                          min_impurity_decrease=0.0,\n",
              "                                          min_impurity_split=None,\n",
              "                                          min_samples_leaf=1,\n",
              "                                          min_samples_split=2,\n",
              "                                          min_weight_fraction_leaf=0.0,\n",
              "                                          n_estimators=123, n_jobs=None,\n",
              "                                          oob_score=False,\n",
              "                                          random_state=RandomState(MT19937) at 0x7F3D33162678,\n",
              "                                          verbose=0, warm_start=False),\n",
              "         max_iter=100, n_estimators='auto', perc=100,\n",
              "         random_state=RandomState(MT19937) at 0x7F3D33162678, two_step=True,\n",
              "         verbose=2)"
            ]
          },
          "metadata": {
            "tags": []
          },
          "execution_count": 64
        }
      ]
    },
    {
      "cell_type": "code",
      "metadata": {
        "colab": {
          "base_uri": "https://localhost:8080/"
        },
        "id": "MTy7LKwVc6sS",
        "outputId": "dc50fbb1-7c35-41f5-9ea4-9ab69d95ecbb"
      },
      "source": [
        "print(\"Selected Features: \", boruta_selector.support_)    # check selected features\n",
        " \n",
        "\n",
        "print(\"Ranking: \",boruta_selector.ranking_)               # check ranking of features\n",
        "\n",
        "print(\"No. of significant features: \", boruta_selector.n_features_)"
      ],
      "execution_count": 65,
      "outputs": [
        {
          "output_type": "stream",
          "text": [
            "Selected Features:  [ True  True  True  True  True  True False  True False False False  True\n",
            "  True  True  True  True  True  True  True  True  True  True]\n",
            "Ranking:  [1 1 1 1 1 1 2 1 3 5 4 1 1 1 1 1 1 1 1 1 1 1]\n",
            "No. of significant features:  18\n"
          ],
          "name": "stdout"
        }
      ]
    },
    {
      "cell_type": "markdown",
      "metadata": {
        "id": "fY14-4754gB9"
      },
      "source": [
        "So boruta has selected 18 relavent features. (The features with a ranking of 1 are selected). \r\n",
        "\r\n",
        "Let's visualise it better in the form of a table"
      ]
    },
    {
      "cell_type": "markdown",
      "metadata": {
        "id": "c2wK8F8GRWW4"
      },
      "source": [
        "#### Displaying features rank wise"
      ]
    },
    {
      "cell_type": "code",
      "metadata": {
        "colab": {
          "base_uri": "https://localhost:8080/",
          "height": 698
        },
        "id": "v88hkWC3dB3k",
        "outputId": "48050ce9-6c35-4fed-a6bc-b99ee1ed4543"
      },
      "source": [
        "selected_rf_features = pd.DataFrame({'Feature':list(X_train.columns),\n",
        "                                      'Ranking':boruta_selector.ranking_})\n",
        "selected_rf_features.sort_values(by='Ranking')"
      ],
      "execution_count": 66,
      "outputs": [
        {
          "output_type": "execute_result",
          "data": {
            "text/html": [
              "<div>\n",
              "<style scoped>\n",
              "    .dataframe tbody tr th:only-of-type {\n",
              "        vertical-align: middle;\n",
              "    }\n",
              "\n",
              "    .dataframe tbody tr th {\n",
              "        vertical-align: top;\n",
              "    }\n",
              "\n",
              "    .dataframe thead th {\n",
              "        text-align: right;\n",
              "    }\n",
              "</style>\n",
              "<table border=\"1\" class=\"dataframe\">\n",
              "  <thead>\n",
              "    <tr style=\"text-align: right;\">\n",
              "      <th></th>\n",
              "      <th>Feature</th>\n",
              "      <th>Ranking</th>\n",
              "    </tr>\n",
              "  </thead>\n",
              "  <tbody>\n",
              "    <tr>\n",
              "      <th>0</th>\n",
              "      <td>Diagnosed_Condition</td>\n",
              "      <td>1</td>\n",
              "    </tr>\n",
              "    <tr>\n",
              "      <th>19</th>\n",
              "      <td>Patient_Smoker_YES</td>\n",
              "      <td>1</td>\n",
              "    </tr>\n",
              "    <tr>\n",
              "      <th>18</th>\n",
              "      <td>Patient_Smoker_NO</td>\n",
              "      <td>1</td>\n",
              "    </tr>\n",
              "    <tr>\n",
              "      <th>17</th>\n",
              "      <td>DX6</td>\n",
              "      <td>1</td>\n",
              "    </tr>\n",
              "    <tr>\n",
              "      <th>16</th>\n",
              "      <td>DX5</td>\n",
              "      <td>1</td>\n",
              "    </tr>\n",
              "    <tr>\n",
              "      <th>15</th>\n",
              "      <td>DX4</td>\n",
              "      <td>1</td>\n",
              "    </tr>\n",
              "    <tr>\n",
              "      <th>14</th>\n",
              "      <td>DX3</td>\n",
              "      <td>1</td>\n",
              "    </tr>\n",
              "    <tr>\n",
              "      <th>13</th>\n",
              "      <td>DX2</td>\n",
              "      <td>1</td>\n",
              "    </tr>\n",
              "    <tr>\n",
              "      <th>12</th>\n",
              "      <td>DX1</td>\n",
              "      <td>1</td>\n",
              "    </tr>\n",
              "    <tr>\n",
              "      <th>11</th>\n",
              "      <td>Number_of_prev_cond</td>\n",
              "      <td>1</td>\n",
              "    </tr>\n",
              "    <tr>\n",
              "      <th>21</th>\n",
              "      <td>Patient_Rural_Urban_URBAN</td>\n",
              "      <td>1</td>\n",
              "    </tr>\n",
              "    <tr>\n",
              "      <th>7</th>\n",
              "      <td>D</td>\n",
              "      <td>1</td>\n",
              "    </tr>\n",
              "    <tr>\n",
              "      <th>5</th>\n",
              "      <td>B</td>\n",
              "      <td>1</td>\n",
              "    </tr>\n",
              "    <tr>\n",
              "      <th>4</th>\n",
              "      <td>A</td>\n",
              "      <td>1</td>\n",
              "    </tr>\n",
              "    <tr>\n",
              "      <th>3</th>\n",
              "      <td>Patient_Body_Mass_Index</td>\n",
              "      <td>1</td>\n",
              "    </tr>\n",
              "    <tr>\n",
              "      <th>2</th>\n",
              "      <td>Patient_Age</td>\n",
              "      <td>1</td>\n",
              "    </tr>\n",
              "    <tr>\n",
              "      <th>1</th>\n",
              "      <td>Patient_ID</td>\n",
              "      <td>1</td>\n",
              "    </tr>\n",
              "    <tr>\n",
              "      <th>20</th>\n",
              "      <td>Patient_Rural_Urban_RURAL</td>\n",
              "      <td>1</td>\n",
              "    </tr>\n",
              "    <tr>\n",
              "      <th>6</th>\n",
              "      <td>C</td>\n",
              "      <td>2</td>\n",
              "    </tr>\n",
              "    <tr>\n",
              "      <th>8</th>\n",
              "      <td>E</td>\n",
              "      <td>3</td>\n",
              "    </tr>\n",
              "    <tr>\n",
              "      <th>10</th>\n",
              "      <td>Z</td>\n",
              "      <td>4</td>\n",
              "    </tr>\n",
              "    <tr>\n",
              "      <th>9</th>\n",
              "      <td>F</td>\n",
              "      <td>5</td>\n",
              "    </tr>\n",
              "  </tbody>\n",
              "</table>\n",
              "</div>"
            ],
            "text/plain": [
              "                      Feature  Ranking\n",
              "0         Diagnosed_Condition        1\n",
              "19         Patient_Smoker_YES        1\n",
              "18          Patient_Smoker_NO        1\n",
              "17                        DX6        1\n",
              "16                        DX5        1\n",
              "15                        DX4        1\n",
              "14                        DX3        1\n",
              "13                        DX2        1\n",
              "12                        DX1        1\n",
              "11        Number_of_prev_cond        1\n",
              "21  Patient_Rural_Urban_URBAN        1\n",
              "7                           D        1\n",
              "5                           B        1\n",
              "4                           A        1\n",
              "3     Patient_Body_Mass_Index        1\n",
              "2                 Patient_Age        1\n",
              "1                  Patient_ID        1\n",
              "20  Patient_Rural_Urban_RURAL        1\n",
              "6                           C        2\n",
              "8                           E        3\n",
              "10                          Z        4\n",
              "9                           F        5"
            ]
          },
          "metadata": {
            "tags": []
          },
          "execution_count": 66
        }
      ]
    },
    {
      "cell_type": "markdown",
      "metadata": {
        "id": "xo-BDdPuRbxw"
      },
      "source": [
        "#### Create a new subset of the data with only the selected features"
      ]
    },
    {
      "cell_type": "code",
      "metadata": {
        "id": "8DtY2Iz-dI_2"
      },
      "source": [
        "X_important_train = boruta_selector.transform(np.array(X_train))\n",
        "X_important_test = boruta_selector.transform(np.array(test_new_data))"
      ],
      "execution_count": 67,
      "outputs": []
    },
    {
      "cell_type": "markdown",
      "metadata": {
        "id": "VaVT7UCcRg2J"
      },
      "source": [
        "#### Build the model with selected features"
      ]
    },
    {
      "cell_type": "code",
      "metadata": {
        "colab": {
          "base_uri": "https://localhost:8080/"
        },
        "id": "Fx32lwXEdRvW",
        "outputId": "126937c9-5abe-446a-d63a-4d6d117c095e"
      },
      "source": [
        "# Create a new random forest classifier for the most important features\n",
        "rf_important = RandomForestClassifier(random_state=1, n_estimators=1000, n_jobs = -1)\n",
        "\n",
        "# Train the new classifier on the new dataset containing the most important features\n",
        "rf_important.fit(X_important_train, y_train)"
      ],
      "execution_count": 68,
      "outputs": [
        {
          "output_type": "execute_result",
          "data": {
            "text/plain": [
              "RandomForestClassifier(bootstrap=True, ccp_alpha=0.0, class_weight=None,\n",
              "                       criterion='gini', max_depth=None, max_features='auto',\n",
              "                       max_leaf_nodes=None, max_samples=None,\n",
              "                       min_impurity_decrease=0.0, min_impurity_split=None,\n",
              "                       min_samples_leaf=1, min_samples_split=2,\n",
              "                       min_weight_fraction_leaf=0.0, n_estimators=1000,\n",
              "                       n_jobs=-1, oob_score=False, random_state=1, verbose=0,\n",
              "                       warm_start=False)"
            ]
          },
          "metadata": {
            "tags": []
          },
          "execution_count": 68
        }
      ]
    },
    {
      "cell_type": "markdown",
      "metadata": {
        "id": "JeWVWt_fVyRA"
      },
      "source": [
        "### Model Evaluaiton"
      ]
    },
    {
      "cell_type": "code",
      "metadata": {
        "colab": {
          "base_uri": "https://localhost:8080/"
        },
        "id": "aQrX-sPIV0a_",
        "outputId": "d9a90383-d254-4aa7-a965-bfa283bdf1c4"
      },
      "source": [
        "f1_score(y_test, rf_important.predict(X_important_test))"
      ],
      "execution_count": 69,
      "outputs": [
        {
          "output_type": "execute_result",
          "data": {
            "text/plain": [
              "0.8524813052345344"
            ]
          },
          "metadata": {
            "tags": []
          },
          "execution_count": 69
        }
      ]
    },
    {
      "cell_type": "markdown",
      "metadata": {
        "id": "6PvKiA0rpT4M"
      },
      "source": [
        "### Hyper Parameter Tunning"
      ]
    },
    {
      "cell_type": "markdown",
      "metadata": {
        "id": "boN4q7np5z9V"
      },
      "source": [
        "Well we have chosen some of the parameters randomly like max_depth, n_estimators. There are many other parameters related to Random Forest model.If you remember we had discussed in our session 'Performance Evaluation' about Hyper parameter tunning. Hyper parameter tunnning helps you to choose a set of  optimal parameters for a model. So let's try if this helps us to further improve the performance of the model. \n",
        "\n",
        "Grid Search helps you to find the optimal parameter for a model."
      ]
    },
    {
      "cell_type": "code",
      "metadata": {
        "id": "UGaZ0-7zk8qw"
      },
      "source": [
        "from sklearn.model_selection import GridSearchCV\n",
        "# Create the parameter grid based on the results of random search \n",
        "param_grid = {\n",
        "    'bootstrap': [True, False],\n",
        "    'max_depth': [5, 10, 15],\n",
        "    'n_estimators': [500, 1000]}"
      ],
      "execution_count": 70,
      "outputs": []
    },
    {
      "cell_type": "code",
      "metadata": {
        "id": "omHxwedqqr58"
      },
      "source": [
        "rf = RandomForestClassifier(random_state = 1)\n",
        "\n",
        "# Grid search cv\n",
        "grid_search = GridSearchCV(estimator = rf, param_grid = param_grid, \n",
        "                          cv = 2, n_jobs = -1, verbose = 2)"
      ],
      "execution_count": 71,
      "outputs": []
    },
    {
      "cell_type": "code",
      "metadata": {
        "colab": {
          "base_uri": "https://localhost:8080/"
        },
        "id": "wHe4obu9rIV1",
        "outputId": "07e4787d-1e7f-49bd-f53e-423831e5df4b"
      },
      "source": [
        "grid_search.fit(X_important_train, y_train)"
      ],
      "execution_count": 72,
      "outputs": [
        {
          "output_type": "stream",
          "text": [
            "Fitting 2 folds for each of 12 candidates, totalling 24 fits\n"
          ],
          "name": "stdout"
        },
        {
          "output_type": "stream",
          "text": [
            "[Parallel(n_jobs=-1)]: Using backend LokyBackend with 2 concurrent workers.\n",
            "[Parallel(n_jobs=-1)]: Done  24 out of  24 | elapsed:  2.5min finished\n"
          ],
          "name": "stderr"
        },
        {
          "output_type": "execute_result",
          "data": {
            "text/plain": [
              "GridSearchCV(cv=2, error_score=nan,\n",
              "             estimator=RandomForestClassifier(bootstrap=True, ccp_alpha=0.0,\n",
              "                                              class_weight=None,\n",
              "                                              criterion='gini', max_depth=None,\n",
              "                                              max_features='auto',\n",
              "                                              max_leaf_nodes=None,\n",
              "                                              max_samples=None,\n",
              "                                              min_impurity_decrease=0.0,\n",
              "                                              min_impurity_split=None,\n",
              "                                              min_samples_leaf=1,\n",
              "                                              min_samples_split=2,\n",
              "                                              min_weight_fraction_leaf=0.0,\n",
              "                                              n_estimators=100, n_jobs=None,\n",
              "                                              oob_score=False, random_state=1,\n",
              "                                              verbose=0, warm_start=False),\n",
              "             iid='deprecated', n_jobs=-1,\n",
              "             param_grid={'bootstrap': [True, False], 'max_depth': [5, 10, 15],\n",
              "                         'n_estimators': [500, 1000]},\n",
              "             pre_dispatch='2*n_jobs', refit=True, return_train_score=False,\n",
              "             scoring=None, verbose=2)"
            ]
          },
          "metadata": {
            "tags": []
          },
          "execution_count": 72
        }
      ]
    },
    {
      "cell_type": "code",
      "metadata": {
        "colab": {
          "base_uri": "https://localhost:8080/"
        },
        "id": "D1l6ukxBrV4_",
        "outputId": "894f8106-324f-4beb-f754-5cced60f9f79"
      },
      "source": [
        "grid_search.best_params_"
      ],
      "execution_count": 73,
      "outputs": [
        {
          "output_type": "execute_result",
          "data": {
            "text/plain": [
              "{'bootstrap': True, 'max_depth': 15, 'n_estimators': 1000}"
            ]
          },
          "metadata": {
            "tags": []
          },
          "execution_count": 73
        }
      ]
    },
    {
      "cell_type": "markdown",
      "metadata": {
        "id": "p-NRgteXWGWp"
      },
      "source": [
        "### Model Evaluation"
      ]
    },
    {
      "cell_type": "code",
      "metadata": {
        "colab": {
          "base_uri": "https://localhost:8080/"
        },
        "id": "aKHrNb5pWOLH",
        "outputId": "9e4210ef-0d43-44af-b87b-72419bac18cf"
      },
      "source": [
        "f1_score(y_test, grid_search.predict(X_important_test))"
      ],
      "execution_count": 74,
      "outputs": [
        {
          "output_type": "execute_result",
          "data": {
            "text/plain": [
              "0.8563247431362642"
            ]
          },
          "metadata": {
            "tags": []
          },
          "execution_count": 74
        }
      ]
    },
    {
      "cell_type": "markdown",
      "metadata": {
        "id": "lzkiM-AdBU12"
      },
      "source": [
        "### Model Performance Comparison"
      ]
    },
    {
      "cell_type": "code",
      "metadata": {
        "id": "wjv4Y2YsCdyv"
      },
      "source": [
        "models = {'Logistic Regression': model, 'Random Forest Classifier': forest, 'Random Forest with Boruta Selector': rf_important, \r\n",
        "          'Hyperparameter Tunning | Random Forest | Boruta': grid_search}\r\n",
        "\r\n",
        "test_data = [test_new_data, test_new_data, X_important_test, X_important_test]\r\n",
        "model_performance = []\r\n",
        "exp = 1\r\n",
        "for key, value in models.items():\r\n",
        "  model_performance.append([exp, key, f1_score(y_test, value.predict(test_data[exp-1]))])\r\n",
        "  exp += 1"
      ],
      "execution_count": 75,
      "outputs": []
    },
    {
      "cell_type": "code",
      "metadata": {
        "colab": {
          "base_uri": "https://localhost:8080/",
          "height": 166
        },
        "id": "TVo5Ynk1klln",
        "outputId": "dd26e41f-7267-41ef-8c8b-be15a9259545"
      },
      "source": [
        "df = pd.DataFrame(model_performance, columns=['experiment no.:', 'experiment name', 'f1 score'])\r\n",
        "df"
      ],
      "execution_count": 76,
      "outputs": [
        {
          "output_type": "execute_result",
          "data": {
            "text/html": [
              "<div>\n",
              "<style scoped>\n",
              "    .dataframe tbody tr th:only-of-type {\n",
              "        vertical-align: middle;\n",
              "    }\n",
              "\n",
              "    .dataframe tbody tr th {\n",
              "        vertical-align: top;\n",
              "    }\n",
              "\n",
              "    .dataframe thead th {\n",
              "        text-align: right;\n",
              "    }\n",
              "</style>\n",
              "<table border=\"1\" class=\"dataframe\">\n",
              "  <thead>\n",
              "    <tr style=\"text-align: right;\">\n",
              "      <th></th>\n",
              "      <th>experiment no.:</th>\n",
              "      <th>experiment name</th>\n",
              "      <th>f1 score</th>\n",
              "    </tr>\n",
              "  </thead>\n",
              "  <tbody>\n",
              "    <tr>\n",
              "      <th>0</th>\n",
              "      <td>1</td>\n",
              "      <td>Logistic Regression</td>\n",
              "      <td>0.786575</td>\n",
              "    </tr>\n",
              "    <tr>\n",
              "      <th>1</th>\n",
              "      <td>2</td>\n",
              "      <td>Random Forest Classifier</td>\n",
              "      <td>0.824206</td>\n",
              "    </tr>\n",
              "    <tr>\n",
              "      <th>2</th>\n",
              "      <td>3</td>\n",
              "      <td>Random Forest with Boruta Selector</td>\n",
              "      <td>0.852481</td>\n",
              "    </tr>\n",
              "    <tr>\n",
              "      <th>3</th>\n",
              "      <td>4</td>\n",
              "      <td>Hyperparameter Tunning | Random Forest | Boruta</td>\n",
              "      <td>0.856325</td>\n",
              "    </tr>\n",
              "  </tbody>\n",
              "</table>\n",
              "</div>"
            ],
            "text/plain": [
              "   experiment no.:                                  experiment name  f1 score\n",
              "0                1                              Logistic Regression  0.786575\n",
              "1                2                         Random Forest Classifier  0.824206\n",
              "2                3               Random Forest with Boruta Selector  0.852481\n",
              "3                4  Hyperparameter Tunning | Random Forest | Boruta  0.856325"
            ]
          },
          "metadata": {
            "tags": []
          },
          "execution_count": 76
        }
      ]
    },
    {
      "cell_type": "markdown",
      "metadata": {
        "id": "xttBy89-LEq2"
      },
      "source": [
        "# Conclusion\n",
        "* It is clearly observable that how the f1 scores increased from logistic regression to random forest, random forest with full features to random forest on the selected features using Boruta. \n",
        "* Then again the f1 score increased with Hyper parameter tunning.\n",
        "* Also this is one of the approach to solve this problem. There can be many other approaches to solve this problem.\n",
        "* We could also try standardizing and normalizing the data or some other algorithms and so on....\n",
        "* Well you should try standardizing or normalizing the data and then observe the difference in f1 score.\n",
        "* Also try doing using Decision Tree.\n"
      ]
    }
  ]
}